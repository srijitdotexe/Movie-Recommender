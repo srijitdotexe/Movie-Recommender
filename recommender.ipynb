{
 "cells": [
  {
   "cell_type": "code",
   "execution_count": 3,
   "id": "initial_id",
   "metadata": {
    "collapsed": true,
    "ExecuteTime": {
     "end_time": "2023-12-01T05:30:36.260924100Z",
     "start_time": "2023-12-01T05:30:27.786081200Z"
    }
   },
   "outputs": [],
   "source": [
    "import numpy as np\n",
    "import pandas as pd\n",
    "import ast"
   ]
  },
  {
   "cell_type": "code",
   "execution_count": 4,
   "outputs": [],
   "source": [
    "movies = pd.read_csv('tmdb_5000_movies.csv')\n",
    "credits = pd.read_csv('tmdb_5000_credits.csv')"
   ],
   "metadata": {
    "collapsed": false,
    "ExecuteTime": {
     "end_time": "2023-12-01T05:30:42.508074700Z",
     "start_time": "2023-12-01T05:30:39.068202200Z"
    }
   },
   "id": "6725d47a7e93971d"
  },
  {
   "cell_type": "code",
   "execution_count": 5,
   "outputs": [
    {
     "data": {
      "text/plain": "         budget                                             genres  \\\n0     237000000  [{\"id\": 28, \"name\": \"Action\"}, {\"id\": 12, \"nam...   \n1     300000000  [{\"id\": 12, \"name\": \"Adventure\"}, {\"id\": 14, \"...   \n2     245000000  [{\"id\": 28, \"name\": \"Action\"}, {\"id\": 12, \"nam...   \n3     250000000  [{\"id\": 28, \"name\": \"Action\"}, {\"id\": 80, \"nam...   \n4     260000000  [{\"id\": 28, \"name\": \"Action\"}, {\"id\": 12, \"nam...   \n...         ...                                                ...   \n4798     220000  [{\"id\": 28, \"name\": \"Action\"}, {\"id\": 80, \"nam...   \n4799       9000  [{\"id\": 35, \"name\": \"Comedy\"}, {\"id\": 10749, \"...   \n4800          0  [{\"id\": 35, \"name\": \"Comedy\"}, {\"id\": 18, \"nam...   \n4801          0                                                 []   \n4802          0                [{\"id\": 99, \"name\": \"Documentary\"}]   \n\n                                               homepage      id  \\\n0                           http://www.avatarmovie.com/   19995   \n1          http://disney.go.com/disneypictures/pirates/     285   \n2           http://www.sonypictures.com/movies/spectre/  206647   \n3                    http://www.thedarkknightrises.com/   49026   \n4                  http://movies.disney.com/john-carter   49529   \n...                                                 ...     ...   \n4798                                                NaN    9367   \n4799                                                NaN   72766   \n4800  http://www.hallmarkchannel.com/signedsealeddel...  231617   \n4801                        http://shanghaicalling.com/  126186   \n4802                                                NaN   25975   \n\n                                               keywords original_language  \\\n0     [{\"id\": 1463, \"name\": \"culture clash\"}, {\"id\":...                en   \n1     [{\"id\": 270, \"name\": \"ocean\"}, {\"id\": 726, \"na...                en   \n2     [{\"id\": 470, \"name\": \"spy\"}, {\"id\": 818, \"name...                en   \n3     [{\"id\": 849, \"name\": \"dc comics\"}, {\"id\": 853,...                en   \n4     [{\"id\": 818, \"name\": \"based on novel\"}, {\"id\":...                en   \n...                                                 ...               ...   \n4798  [{\"id\": 5616, \"name\": \"united states\\u2013mexi...                es   \n4799                                                 []                en   \n4800  [{\"id\": 248, \"name\": \"date\"}, {\"id\": 699, \"nam...                en   \n4801                                                 []                en   \n4802  [{\"id\": 1523, \"name\": \"obsession\"}, {\"id\": 224...                en   \n\n                                original_title  \\\n0                                       Avatar   \n1     Pirates of the Caribbean: At World's End   \n2                                      Spectre   \n3                        The Dark Knight Rises   \n4                                  John Carter   \n...                                        ...   \n4798                               El Mariachi   \n4799                                 Newlyweds   \n4800                 Signed, Sealed, Delivered   \n4801                          Shanghai Calling   \n4802                         My Date with Drew   \n\n                                               overview  popularity  \\\n0     In the 22nd century, a paraplegic Marine is di...  150.437577   \n1     Captain Barbossa, long believed to be dead, ha...  139.082615   \n2     A cryptic message from Bond’s past sends him o...  107.376788   \n3     Following the death of District Attorney Harve...  112.312950   \n4     John Carter is a war-weary, former military ca...   43.926995   \n...                                                 ...         ...   \n4798  El Mariachi just wants to play his guitar and ...   14.269792   \n4799  A newlywed couple's honeymoon is upended by th...    0.642552   \n4800  \"Signed, Sealed, Delivered\" introduces a dedic...    1.444476   \n4801  When ambitious New York attorney Sam is sent t...    0.857008   \n4802  Ever since the second grade when he first saw ...    1.929883   \n\n                                   production_companies  \\\n0     [{\"name\": \"Ingenious Film Partners\", \"id\": 289...   \n1     [{\"name\": \"Walt Disney Pictures\", \"id\": 2}, {\"...   \n2     [{\"name\": \"Columbia Pictures\", \"id\": 5}, {\"nam...   \n3     [{\"name\": \"Legendary Pictures\", \"id\": 923}, {\"...   \n4           [{\"name\": \"Walt Disney Pictures\", \"id\": 2}]   \n...                                                 ...   \n4798           [{\"name\": \"Columbia Pictures\", \"id\": 5}]   \n4799                                                 []   \n4800  [{\"name\": \"Front Street Pictures\", \"id\": 3958}...   \n4801                                                 []   \n4802  [{\"name\": \"rusty bear entertainment\", \"id\": 87...   \n\n                                   production_countries release_date  \\\n0     [{\"iso_3166_1\": \"US\", \"name\": \"United States o...   2009-12-10   \n1     [{\"iso_3166_1\": \"US\", \"name\": \"United States o...   2007-05-19   \n2     [{\"iso_3166_1\": \"GB\", \"name\": \"United Kingdom\"...   2015-10-26   \n3     [{\"iso_3166_1\": \"US\", \"name\": \"United States o...   2012-07-16   \n4     [{\"iso_3166_1\": \"US\", \"name\": \"United States o...   2012-03-07   \n...                                                 ...          ...   \n4798  [{\"iso_3166_1\": \"MX\", \"name\": \"Mexico\"}, {\"iso...   1992-09-04   \n4799                                                 []   2011-12-26   \n4800  [{\"iso_3166_1\": \"US\", \"name\": \"United States o...   2013-10-13   \n4801  [{\"iso_3166_1\": \"US\", \"name\": \"United States o...   2012-05-03   \n4802  [{\"iso_3166_1\": \"US\", \"name\": \"United States o...   2005-08-05   \n\n         revenue  runtime                                   spoken_languages  \\\n0     2787965087    162.0  [{\"iso_639_1\": \"en\", \"name\": \"English\"}, {\"iso...   \n1      961000000    169.0           [{\"iso_639_1\": \"en\", \"name\": \"English\"}]   \n2      880674609    148.0  [{\"iso_639_1\": \"fr\", \"name\": \"Fran\\u00e7ais\"},...   \n3     1084939099    165.0           [{\"iso_639_1\": \"en\", \"name\": \"English\"}]   \n4      284139100    132.0           [{\"iso_639_1\": \"en\", \"name\": \"English\"}]   \n...          ...      ...                                                ...   \n4798     2040920     81.0      [{\"iso_639_1\": \"es\", \"name\": \"Espa\\u00f1ol\"}]   \n4799           0     85.0                                                 []   \n4800           0    120.0           [{\"iso_639_1\": \"en\", \"name\": \"English\"}]   \n4801           0     98.0           [{\"iso_639_1\": \"en\", \"name\": \"English\"}]   \n4802           0     90.0           [{\"iso_639_1\": \"en\", \"name\": \"English\"}]   \n\n        status                                            tagline  \\\n0     Released                        Enter the World of Pandora.   \n1     Released     At the end of the world, the adventure begins.   \n2     Released                              A Plan No One Escapes   \n3     Released                                    The Legend Ends   \n4     Released               Lost in our world, found in another.   \n...        ...                                                ...   \n4798  Released  He didn't come looking for trouble, but troubl...   \n4799  Released  A newlywed couple's honeymoon is upended by th...   \n4800  Released                                                NaN   \n4801  Released                           A New Yorker in Shanghai   \n4802  Released                                                NaN   \n\n                                         title  vote_average  vote_count  \n0                                       Avatar           7.2       11800  \n1     Pirates of the Caribbean: At World's End           6.9        4500  \n2                                      Spectre           6.3        4466  \n3                        The Dark Knight Rises           7.6        9106  \n4                                  John Carter           6.1        2124  \n...                                        ...           ...         ...  \n4798                               El Mariachi           6.6         238  \n4799                                 Newlyweds           5.9           5  \n4800                 Signed, Sealed, Delivered           7.0           6  \n4801                          Shanghai Calling           5.7           7  \n4802                         My Date with Drew           6.3          16  \n\n[4803 rows x 20 columns]",
      "text/html": "<div>\n<style scoped>\n    .dataframe tbody tr th:only-of-type {\n        vertical-align: middle;\n    }\n\n    .dataframe tbody tr th {\n        vertical-align: top;\n    }\n\n    .dataframe thead th {\n        text-align: right;\n    }\n</style>\n<table border=\"1\" class=\"dataframe\">\n  <thead>\n    <tr style=\"text-align: right;\">\n      <th></th>\n      <th>budget</th>\n      <th>genres</th>\n      <th>homepage</th>\n      <th>id</th>\n      <th>keywords</th>\n      <th>original_language</th>\n      <th>original_title</th>\n      <th>overview</th>\n      <th>popularity</th>\n      <th>production_companies</th>\n      <th>production_countries</th>\n      <th>release_date</th>\n      <th>revenue</th>\n      <th>runtime</th>\n      <th>spoken_languages</th>\n      <th>status</th>\n      <th>tagline</th>\n      <th>title</th>\n      <th>vote_average</th>\n      <th>vote_count</th>\n    </tr>\n  </thead>\n  <tbody>\n    <tr>\n      <th>0</th>\n      <td>237000000</td>\n      <td>[{\"id\": 28, \"name\": \"Action\"}, {\"id\": 12, \"nam...</td>\n      <td>http://www.avatarmovie.com/</td>\n      <td>19995</td>\n      <td>[{\"id\": 1463, \"name\": \"culture clash\"}, {\"id\":...</td>\n      <td>en</td>\n      <td>Avatar</td>\n      <td>In the 22nd century, a paraplegic Marine is di...</td>\n      <td>150.437577</td>\n      <td>[{\"name\": \"Ingenious Film Partners\", \"id\": 289...</td>\n      <td>[{\"iso_3166_1\": \"US\", \"name\": \"United States o...</td>\n      <td>2009-12-10</td>\n      <td>2787965087</td>\n      <td>162.0</td>\n      <td>[{\"iso_639_1\": \"en\", \"name\": \"English\"}, {\"iso...</td>\n      <td>Released</td>\n      <td>Enter the World of Pandora.</td>\n      <td>Avatar</td>\n      <td>7.2</td>\n      <td>11800</td>\n    </tr>\n    <tr>\n      <th>1</th>\n      <td>300000000</td>\n      <td>[{\"id\": 12, \"name\": \"Adventure\"}, {\"id\": 14, \"...</td>\n      <td>http://disney.go.com/disneypictures/pirates/</td>\n      <td>285</td>\n      <td>[{\"id\": 270, \"name\": \"ocean\"}, {\"id\": 726, \"na...</td>\n      <td>en</td>\n      <td>Pirates of the Caribbean: At World's End</td>\n      <td>Captain Barbossa, long believed to be dead, ha...</td>\n      <td>139.082615</td>\n      <td>[{\"name\": \"Walt Disney Pictures\", \"id\": 2}, {\"...</td>\n      <td>[{\"iso_3166_1\": \"US\", \"name\": \"United States o...</td>\n      <td>2007-05-19</td>\n      <td>961000000</td>\n      <td>169.0</td>\n      <td>[{\"iso_639_1\": \"en\", \"name\": \"English\"}]</td>\n      <td>Released</td>\n      <td>At the end of the world, the adventure begins.</td>\n      <td>Pirates of the Caribbean: At World's End</td>\n      <td>6.9</td>\n      <td>4500</td>\n    </tr>\n    <tr>\n      <th>2</th>\n      <td>245000000</td>\n      <td>[{\"id\": 28, \"name\": \"Action\"}, {\"id\": 12, \"nam...</td>\n      <td>http://www.sonypictures.com/movies/spectre/</td>\n      <td>206647</td>\n      <td>[{\"id\": 470, \"name\": \"spy\"}, {\"id\": 818, \"name...</td>\n      <td>en</td>\n      <td>Spectre</td>\n      <td>A cryptic message from Bond’s past sends him o...</td>\n      <td>107.376788</td>\n      <td>[{\"name\": \"Columbia Pictures\", \"id\": 5}, {\"nam...</td>\n      <td>[{\"iso_3166_1\": \"GB\", \"name\": \"United Kingdom\"...</td>\n      <td>2015-10-26</td>\n      <td>880674609</td>\n      <td>148.0</td>\n      <td>[{\"iso_639_1\": \"fr\", \"name\": \"Fran\\u00e7ais\"},...</td>\n      <td>Released</td>\n      <td>A Plan No One Escapes</td>\n      <td>Spectre</td>\n      <td>6.3</td>\n      <td>4466</td>\n    </tr>\n    <tr>\n      <th>3</th>\n      <td>250000000</td>\n      <td>[{\"id\": 28, \"name\": \"Action\"}, {\"id\": 80, \"nam...</td>\n      <td>http://www.thedarkknightrises.com/</td>\n      <td>49026</td>\n      <td>[{\"id\": 849, \"name\": \"dc comics\"}, {\"id\": 853,...</td>\n      <td>en</td>\n      <td>The Dark Knight Rises</td>\n      <td>Following the death of District Attorney Harve...</td>\n      <td>112.312950</td>\n      <td>[{\"name\": \"Legendary Pictures\", \"id\": 923}, {\"...</td>\n      <td>[{\"iso_3166_1\": \"US\", \"name\": \"United States o...</td>\n      <td>2012-07-16</td>\n      <td>1084939099</td>\n      <td>165.0</td>\n      <td>[{\"iso_639_1\": \"en\", \"name\": \"English\"}]</td>\n      <td>Released</td>\n      <td>The Legend Ends</td>\n      <td>The Dark Knight Rises</td>\n      <td>7.6</td>\n      <td>9106</td>\n    </tr>\n    <tr>\n      <th>4</th>\n      <td>260000000</td>\n      <td>[{\"id\": 28, \"name\": \"Action\"}, {\"id\": 12, \"nam...</td>\n      <td>http://movies.disney.com/john-carter</td>\n      <td>49529</td>\n      <td>[{\"id\": 818, \"name\": \"based on novel\"}, {\"id\":...</td>\n      <td>en</td>\n      <td>John Carter</td>\n      <td>John Carter is a war-weary, former military ca...</td>\n      <td>43.926995</td>\n      <td>[{\"name\": \"Walt Disney Pictures\", \"id\": 2}]</td>\n      <td>[{\"iso_3166_1\": \"US\", \"name\": \"United States o...</td>\n      <td>2012-03-07</td>\n      <td>284139100</td>\n      <td>132.0</td>\n      <td>[{\"iso_639_1\": \"en\", \"name\": \"English\"}]</td>\n      <td>Released</td>\n      <td>Lost in our world, found in another.</td>\n      <td>John Carter</td>\n      <td>6.1</td>\n      <td>2124</td>\n    </tr>\n    <tr>\n      <th>...</th>\n      <td>...</td>\n      <td>...</td>\n      <td>...</td>\n      <td>...</td>\n      <td>...</td>\n      <td>...</td>\n      <td>...</td>\n      <td>...</td>\n      <td>...</td>\n      <td>...</td>\n      <td>...</td>\n      <td>...</td>\n      <td>...</td>\n      <td>...</td>\n      <td>...</td>\n      <td>...</td>\n      <td>...</td>\n      <td>...</td>\n      <td>...</td>\n      <td>...</td>\n    </tr>\n    <tr>\n      <th>4798</th>\n      <td>220000</td>\n      <td>[{\"id\": 28, \"name\": \"Action\"}, {\"id\": 80, \"nam...</td>\n      <td>NaN</td>\n      <td>9367</td>\n      <td>[{\"id\": 5616, \"name\": \"united states\\u2013mexi...</td>\n      <td>es</td>\n      <td>El Mariachi</td>\n      <td>El Mariachi just wants to play his guitar and ...</td>\n      <td>14.269792</td>\n      <td>[{\"name\": \"Columbia Pictures\", \"id\": 5}]</td>\n      <td>[{\"iso_3166_1\": \"MX\", \"name\": \"Mexico\"}, {\"iso...</td>\n      <td>1992-09-04</td>\n      <td>2040920</td>\n      <td>81.0</td>\n      <td>[{\"iso_639_1\": \"es\", \"name\": \"Espa\\u00f1ol\"}]</td>\n      <td>Released</td>\n      <td>He didn't come looking for trouble, but troubl...</td>\n      <td>El Mariachi</td>\n      <td>6.6</td>\n      <td>238</td>\n    </tr>\n    <tr>\n      <th>4799</th>\n      <td>9000</td>\n      <td>[{\"id\": 35, \"name\": \"Comedy\"}, {\"id\": 10749, \"...</td>\n      <td>NaN</td>\n      <td>72766</td>\n      <td>[]</td>\n      <td>en</td>\n      <td>Newlyweds</td>\n      <td>A newlywed couple's honeymoon is upended by th...</td>\n      <td>0.642552</td>\n      <td>[]</td>\n      <td>[]</td>\n      <td>2011-12-26</td>\n      <td>0</td>\n      <td>85.0</td>\n      <td>[]</td>\n      <td>Released</td>\n      <td>A newlywed couple's honeymoon is upended by th...</td>\n      <td>Newlyweds</td>\n      <td>5.9</td>\n      <td>5</td>\n    </tr>\n    <tr>\n      <th>4800</th>\n      <td>0</td>\n      <td>[{\"id\": 35, \"name\": \"Comedy\"}, {\"id\": 18, \"nam...</td>\n      <td>http://www.hallmarkchannel.com/signedsealeddel...</td>\n      <td>231617</td>\n      <td>[{\"id\": 248, \"name\": \"date\"}, {\"id\": 699, \"nam...</td>\n      <td>en</td>\n      <td>Signed, Sealed, Delivered</td>\n      <td>\"Signed, Sealed, Delivered\" introduces a dedic...</td>\n      <td>1.444476</td>\n      <td>[{\"name\": \"Front Street Pictures\", \"id\": 3958}...</td>\n      <td>[{\"iso_3166_1\": \"US\", \"name\": \"United States o...</td>\n      <td>2013-10-13</td>\n      <td>0</td>\n      <td>120.0</td>\n      <td>[{\"iso_639_1\": \"en\", \"name\": \"English\"}]</td>\n      <td>Released</td>\n      <td>NaN</td>\n      <td>Signed, Sealed, Delivered</td>\n      <td>7.0</td>\n      <td>6</td>\n    </tr>\n    <tr>\n      <th>4801</th>\n      <td>0</td>\n      <td>[]</td>\n      <td>http://shanghaicalling.com/</td>\n      <td>126186</td>\n      <td>[]</td>\n      <td>en</td>\n      <td>Shanghai Calling</td>\n      <td>When ambitious New York attorney Sam is sent t...</td>\n      <td>0.857008</td>\n      <td>[]</td>\n      <td>[{\"iso_3166_1\": \"US\", \"name\": \"United States o...</td>\n      <td>2012-05-03</td>\n      <td>0</td>\n      <td>98.0</td>\n      <td>[{\"iso_639_1\": \"en\", \"name\": \"English\"}]</td>\n      <td>Released</td>\n      <td>A New Yorker in Shanghai</td>\n      <td>Shanghai Calling</td>\n      <td>5.7</td>\n      <td>7</td>\n    </tr>\n    <tr>\n      <th>4802</th>\n      <td>0</td>\n      <td>[{\"id\": 99, \"name\": \"Documentary\"}]</td>\n      <td>NaN</td>\n      <td>25975</td>\n      <td>[{\"id\": 1523, \"name\": \"obsession\"}, {\"id\": 224...</td>\n      <td>en</td>\n      <td>My Date with Drew</td>\n      <td>Ever since the second grade when he first saw ...</td>\n      <td>1.929883</td>\n      <td>[{\"name\": \"rusty bear entertainment\", \"id\": 87...</td>\n      <td>[{\"iso_3166_1\": \"US\", \"name\": \"United States o...</td>\n      <td>2005-08-05</td>\n      <td>0</td>\n      <td>90.0</td>\n      <td>[{\"iso_639_1\": \"en\", \"name\": \"English\"}]</td>\n      <td>Released</td>\n      <td>NaN</td>\n      <td>My Date with Drew</td>\n      <td>6.3</td>\n      <td>16</td>\n    </tr>\n  </tbody>\n</table>\n<p>4803 rows × 20 columns</p>\n</div>"
     },
     "execution_count": 5,
     "metadata": {},
     "output_type": "execute_result"
    }
   ],
   "source": [
    "movies"
   ],
   "metadata": {
    "collapsed": false,
    "ExecuteTime": {
     "end_time": "2023-12-01T05:30:44.058468500Z",
     "start_time": "2023-12-01T05:30:43.696880400Z"
    }
   },
   "id": "851c069199d8eb6b"
  },
  {
   "cell_type": "code",
   "execution_count": 6,
   "outputs": [
    {
     "data": {
      "text/plain": "      movie_id                                     title  \\\n0        19995                                    Avatar   \n1          285  Pirates of the Caribbean: At World's End   \n2       206647                                   Spectre   \n3        49026                     The Dark Knight Rises   \n4        49529                               John Carter   \n...        ...                                       ...   \n4798      9367                               El Mariachi   \n4799     72766                                 Newlyweds   \n4800    231617                 Signed, Sealed, Delivered   \n4801    126186                          Shanghai Calling   \n4802     25975                         My Date with Drew   \n\n                                                   cast  \\\n0     [{\"cast_id\": 242, \"character\": \"Jake Sully\", \"...   \n1     [{\"cast_id\": 4, \"character\": \"Captain Jack Spa...   \n2     [{\"cast_id\": 1, \"character\": \"James Bond\", \"cr...   \n3     [{\"cast_id\": 2, \"character\": \"Bruce Wayne / Ba...   \n4     [{\"cast_id\": 5, \"character\": \"John Carter\", \"c...   \n...                                                 ...   \n4798  [{\"cast_id\": 1, \"character\": \"El Mariachi\", \"c...   \n4799  [{\"cast_id\": 1, \"character\": \"Buzzy\", \"credit_...   \n4800  [{\"cast_id\": 8, \"character\": \"Oliver O\\u2019To...   \n4801  [{\"cast_id\": 3, \"character\": \"Sam\", \"credit_id...   \n4802  [{\"cast_id\": 3, \"character\": \"Herself\", \"credi...   \n\n                                                   crew  \n0     [{\"credit_id\": \"52fe48009251416c750aca23\", \"de...  \n1     [{\"credit_id\": \"52fe4232c3a36847f800b579\", \"de...  \n2     [{\"credit_id\": \"54805967c3a36829b5002c41\", \"de...  \n3     [{\"credit_id\": \"52fe4781c3a36847f81398c3\", \"de...  \n4     [{\"credit_id\": \"52fe479ac3a36847f813eaa3\", \"de...  \n...                                                 ...  \n4798  [{\"credit_id\": \"52fe44eec3a36847f80b280b\", \"de...  \n4799  [{\"credit_id\": \"52fe487dc3a368484e0fb013\", \"de...  \n4800  [{\"credit_id\": \"52fe4df3c3a36847f8275ecf\", \"de...  \n4801  [{\"credit_id\": \"52fe4ad9c3a368484e16a36b\", \"de...  \n4802  [{\"credit_id\": \"58ce021b9251415a390165d9\", \"de...  \n\n[4803 rows x 4 columns]",
      "text/html": "<div>\n<style scoped>\n    .dataframe tbody tr th:only-of-type {\n        vertical-align: middle;\n    }\n\n    .dataframe tbody tr th {\n        vertical-align: top;\n    }\n\n    .dataframe thead th {\n        text-align: right;\n    }\n</style>\n<table border=\"1\" class=\"dataframe\">\n  <thead>\n    <tr style=\"text-align: right;\">\n      <th></th>\n      <th>movie_id</th>\n      <th>title</th>\n      <th>cast</th>\n      <th>crew</th>\n    </tr>\n  </thead>\n  <tbody>\n    <tr>\n      <th>0</th>\n      <td>19995</td>\n      <td>Avatar</td>\n      <td>[{\"cast_id\": 242, \"character\": \"Jake Sully\", \"...</td>\n      <td>[{\"credit_id\": \"52fe48009251416c750aca23\", \"de...</td>\n    </tr>\n    <tr>\n      <th>1</th>\n      <td>285</td>\n      <td>Pirates of the Caribbean: At World's End</td>\n      <td>[{\"cast_id\": 4, \"character\": \"Captain Jack Spa...</td>\n      <td>[{\"credit_id\": \"52fe4232c3a36847f800b579\", \"de...</td>\n    </tr>\n    <tr>\n      <th>2</th>\n      <td>206647</td>\n      <td>Spectre</td>\n      <td>[{\"cast_id\": 1, \"character\": \"James Bond\", \"cr...</td>\n      <td>[{\"credit_id\": \"54805967c3a36829b5002c41\", \"de...</td>\n    </tr>\n    <tr>\n      <th>3</th>\n      <td>49026</td>\n      <td>The Dark Knight Rises</td>\n      <td>[{\"cast_id\": 2, \"character\": \"Bruce Wayne / Ba...</td>\n      <td>[{\"credit_id\": \"52fe4781c3a36847f81398c3\", \"de...</td>\n    </tr>\n    <tr>\n      <th>4</th>\n      <td>49529</td>\n      <td>John Carter</td>\n      <td>[{\"cast_id\": 5, \"character\": \"John Carter\", \"c...</td>\n      <td>[{\"credit_id\": \"52fe479ac3a36847f813eaa3\", \"de...</td>\n    </tr>\n    <tr>\n      <th>...</th>\n      <td>...</td>\n      <td>...</td>\n      <td>...</td>\n      <td>...</td>\n    </tr>\n    <tr>\n      <th>4798</th>\n      <td>9367</td>\n      <td>El Mariachi</td>\n      <td>[{\"cast_id\": 1, \"character\": \"El Mariachi\", \"c...</td>\n      <td>[{\"credit_id\": \"52fe44eec3a36847f80b280b\", \"de...</td>\n    </tr>\n    <tr>\n      <th>4799</th>\n      <td>72766</td>\n      <td>Newlyweds</td>\n      <td>[{\"cast_id\": 1, \"character\": \"Buzzy\", \"credit_...</td>\n      <td>[{\"credit_id\": \"52fe487dc3a368484e0fb013\", \"de...</td>\n    </tr>\n    <tr>\n      <th>4800</th>\n      <td>231617</td>\n      <td>Signed, Sealed, Delivered</td>\n      <td>[{\"cast_id\": 8, \"character\": \"Oliver O\\u2019To...</td>\n      <td>[{\"credit_id\": \"52fe4df3c3a36847f8275ecf\", \"de...</td>\n    </tr>\n    <tr>\n      <th>4801</th>\n      <td>126186</td>\n      <td>Shanghai Calling</td>\n      <td>[{\"cast_id\": 3, \"character\": \"Sam\", \"credit_id...</td>\n      <td>[{\"credit_id\": \"52fe4ad9c3a368484e16a36b\", \"de...</td>\n    </tr>\n    <tr>\n      <th>4802</th>\n      <td>25975</td>\n      <td>My Date with Drew</td>\n      <td>[{\"cast_id\": 3, \"character\": \"Herself\", \"credi...</td>\n      <td>[{\"credit_id\": \"58ce021b9251415a390165d9\", \"de...</td>\n    </tr>\n  </tbody>\n</table>\n<p>4803 rows × 4 columns</p>\n</div>"
     },
     "execution_count": 6,
     "metadata": {},
     "output_type": "execute_result"
    }
   ],
   "source": [
    "credits"
   ],
   "metadata": {
    "collapsed": false,
    "ExecuteTime": {
     "end_time": "2023-12-01T05:30:50.095757400Z",
     "start_time": "2023-12-01T05:30:49.669603300Z"
    }
   },
   "id": "f6d1acf609e8a23c"
  },
  {
   "cell_type": "code",
   "execution_count": 7,
   "outputs": [
    {
     "data": {
      "text/plain": "         budget                                             genres  \\\n0     237000000  [{\"id\": 28, \"name\": \"Action\"}, {\"id\": 12, \"nam...   \n1     300000000  [{\"id\": 12, \"name\": \"Adventure\"}, {\"id\": 14, \"...   \n2     245000000  [{\"id\": 28, \"name\": \"Action\"}, {\"id\": 12, \"nam...   \n3     250000000  [{\"id\": 28, \"name\": \"Action\"}, {\"id\": 80, \"nam...   \n4     260000000  [{\"id\": 28, \"name\": \"Action\"}, {\"id\": 12, \"nam...   \n...         ...                                                ...   \n4804     220000  [{\"id\": 28, \"name\": \"Action\"}, {\"id\": 80, \"nam...   \n4805       9000  [{\"id\": 35, \"name\": \"Comedy\"}, {\"id\": 10749, \"...   \n4806          0  [{\"id\": 35, \"name\": \"Comedy\"}, {\"id\": 18, \"nam...   \n4807          0                                                 []   \n4808          0                [{\"id\": 99, \"name\": \"Documentary\"}]   \n\n                                               homepage      id  \\\n0                           http://www.avatarmovie.com/   19995   \n1          http://disney.go.com/disneypictures/pirates/     285   \n2           http://www.sonypictures.com/movies/spectre/  206647   \n3                    http://www.thedarkknightrises.com/   49026   \n4                  http://movies.disney.com/john-carter   49529   \n...                                                 ...     ...   \n4804                                                NaN    9367   \n4805                                                NaN   72766   \n4806  http://www.hallmarkchannel.com/signedsealeddel...  231617   \n4807                        http://shanghaicalling.com/  126186   \n4808                                                NaN   25975   \n\n                                               keywords original_language  \\\n0     [{\"id\": 1463, \"name\": \"culture clash\"}, {\"id\":...                en   \n1     [{\"id\": 270, \"name\": \"ocean\"}, {\"id\": 726, \"na...                en   \n2     [{\"id\": 470, \"name\": \"spy\"}, {\"id\": 818, \"name...                en   \n3     [{\"id\": 849, \"name\": \"dc comics\"}, {\"id\": 853,...                en   \n4     [{\"id\": 818, \"name\": \"based on novel\"}, {\"id\":...                en   \n...                                                 ...               ...   \n4804  [{\"id\": 5616, \"name\": \"united states\\u2013mexi...                es   \n4805                                                 []                en   \n4806  [{\"id\": 248, \"name\": \"date\"}, {\"id\": 699, \"nam...                en   \n4807                                                 []                en   \n4808  [{\"id\": 1523, \"name\": \"obsession\"}, {\"id\": 224...                en   \n\n                                original_title  \\\n0                                       Avatar   \n1     Pirates of the Caribbean: At World's End   \n2                                      Spectre   \n3                        The Dark Knight Rises   \n4                                  John Carter   \n...                                        ...   \n4804                               El Mariachi   \n4805                                 Newlyweds   \n4806                 Signed, Sealed, Delivered   \n4807                          Shanghai Calling   \n4808                         My Date with Drew   \n\n                                               overview  popularity  \\\n0     In the 22nd century, a paraplegic Marine is di...  150.437577   \n1     Captain Barbossa, long believed to be dead, ha...  139.082615   \n2     A cryptic message from Bond’s past sends him o...  107.376788   \n3     Following the death of District Attorney Harve...  112.312950   \n4     John Carter is a war-weary, former military ca...   43.926995   \n...                                                 ...         ...   \n4804  El Mariachi just wants to play his guitar and ...   14.269792   \n4805  A newlywed couple's honeymoon is upended by th...    0.642552   \n4806  \"Signed, Sealed, Delivered\" introduces a dedic...    1.444476   \n4807  When ambitious New York attorney Sam is sent t...    0.857008   \n4808  Ever since the second grade when he first saw ...    1.929883   \n\n                                   production_companies  ... runtime  \\\n0     [{\"name\": \"Ingenious Film Partners\", \"id\": 289...  ...   162.0   \n1     [{\"name\": \"Walt Disney Pictures\", \"id\": 2}, {\"...  ...   169.0   \n2     [{\"name\": \"Columbia Pictures\", \"id\": 5}, {\"nam...  ...   148.0   \n3     [{\"name\": \"Legendary Pictures\", \"id\": 923}, {\"...  ...   165.0   \n4           [{\"name\": \"Walt Disney Pictures\", \"id\": 2}]  ...   132.0   \n...                                                 ...  ...     ...   \n4804           [{\"name\": \"Columbia Pictures\", \"id\": 5}]  ...    81.0   \n4805                                                 []  ...    85.0   \n4806  [{\"name\": \"Front Street Pictures\", \"id\": 3958}...  ...   120.0   \n4807                                                 []  ...    98.0   \n4808  [{\"name\": \"rusty bear entertainment\", \"id\": 87...  ...    90.0   \n\n                                       spoken_languages    status  \\\n0     [{\"iso_639_1\": \"en\", \"name\": \"English\"}, {\"iso...  Released   \n1              [{\"iso_639_1\": \"en\", \"name\": \"English\"}]  Released   \n2     [{\"iso_639_1\": \"fr\", \"name\": \"Fran\\u00e7ais\"},...  Released   \n3              [{\"iso_639_1\": \"en\", \"name\": \"English\"}]  Released   \n4              [{\"iso_639_1\": \"en\", \"name\": \"English\"}]  Released   \n...                                                 ...       ...   \n4804      [{\"iso_639_1\": \"es\", \"name\": \"Espa\\u00f1ol\"}]  Released   \n4805                                                 []  Released   \n4806           [{\"iso_639_1\": \"en\", \"name\": \"English\"}]  Released   \n4807           [{\"iso_639_1\": \"en\", \"name\": \"English\"}]  Released   \n4808           [{\"iso_639_1\": \"en\", \"name\": \"English\"}]  Released   \n\n                                                tagline  \\\n0                           Enter the World of Pandora.   \n1        At the end of the world, the adventure begins.   \n2                                 A Plan No One Escapes   \n3                                       The Legend Ends   \n4                  Lost in our world, found in another.   \n...                                                 ...   \n4804  He didn't come looking for trouble, but troubl...   \n4805  A newlywed couple's honeymoon is upended by th...   \n4806                                                NaN   \n4807                           A New Yorker in Shanghai   \n4808                                                NaN   \n\n                                         title vote_average vote_count  \\\n0                                       Avatar          7.2      11800   \n1     Pirates of the Caribbean: At World's End          6.9       4500   \n2                                      Spectre          6.3       4466   \n3                        The Dark Knight Rises          7.6       9106   \n4                                  John Carter          6.1       2124   \n...                                        ...          ...        ...   \n4804                               El Mariachi          6.6        238   \n4805                                 Newlyweds          5.9          5   \n4806                 Signed, Sealed, Delivered          7.0          6   \n4807                          Shanghai Calling          5.7          7   \n4808                         My Date with Drew          6.3         16   \n\n     movie_id                                               cast  \\\n0       19995  [{\"cast_id\": 242, \"character\": \"Jake Sully\", \"...   \n1         285  [{\"cast_id\": 4, \"character\": \"Captain Jack Spa...   \n2      206647  [{\"cast_id\": 1, \"character\": \"James Bond\", \"cr...   \n3       49026  [{\"cast_id\": 2, \"character\": \"Bruce Wayne / Ba...   \n4       49529  [{\"cast_id\": 5, \"character\": \"John Carter\", \"c...   \n...       ...                                                ...   \n4804     9367  [{\"cast_id\": 1, \"character\": \"El Mariachi\", \"c...   \n4805    72766  [{\"cast_id\": 1, \"character\": \"Buzzy\", \"credit_...   \n4806   231617  [{\"cast_id\": 8, \"character\": \"Oliver O\\u2019To...   \n4807   126186  [{\"cast_id\": 3, \"character\": \"Sam\", \"credit_id...   \n4808    25975  [{\"cast_id\": 3, \"character\": \"Herself\", \"credi...   \n\n                                                   crew  \n0     [{\"credit_id\": \"52fe48009251416c750aca23\", \"de...  \n1     [{\"credit_id\": \"52fe4232c3a36847f800b579\", \"de...  \n2     [{\"credit_id\": \"54805967c3a36829b5002c41\", \"de...  \n3     [{\"credit_id\": \"52fe4781c3a36847f81398c3\", \"de...  \n4     [{\"credit_id\": \"52fe479ac3a36847f813eaa3\", \"de...  \n...                                                 ...  \n4804  [{\"credit_id\": \"52fe44eec3a36847f80b280b\", \"de...  \n4805  [{\"credit_id\": \"52fe487dc3a368484e0fb013\", \"de...  \n4806  [{\"credit_id\": \"52fe4df3c3a36847f8275ecf\", \"de...  \n4807  [{\"credit_id\": \"52fe4ad9c3a368484e16a36b\", \"de...  \n4808  [{\"credit_id\": \"58ce021b9251415a390165d9\", \"de...  \n\n[4809 rows x 23 columns]",
      "text/html": "<div>\n<style scoped>\n    .dataframe tbody tr th:only-of-type {\n        vertical-align: middle;\n    }\n\n    .dataframe tbody tr th {\n        vertical-align: top;\n    }\n\n    .dataframe thead th {\n        text-align: right;\n    }\n</style>\n<table border=\"1\" class=\"dataframe\">\n  <thead>\n    <tr style=\"text-align: right;\">\n      <th></th>\n      <th>budget</th>\n      <th>genres</th>\n      <th>homepage</th>\n      <th>id</th>\n      <th>keywords</th>\n      <th>original_language</th>\n      <th>original_title</th>\n      <th>overview</th>\n      <th>popularity</th>\n      <th>production_companies</th>\n      <th>...</th>\n      <th>runtime</th>\n      <th>spoken_languages</th>\n      <th>status</th>\n      <th>tagline</th>\n      <th>title</th>\n      <th>vote_average</th>\n      <th>vote_count</th>\n      <th>movie_id</th>\n      <th>cast</th>\n      <th>crew</th>\n    </tr>\n  </thead>\n  <tbody>\n    <tr>\n      <th>0</th>\n      <td>237000000</td>\n      <td>[{\"id\": 28, \"name\": \"Action\"}, {\"id\": 12, \"nam...</td>\n      <td>http://www.avatarmovie.com/</td>\n      <td>19995</td>\n      <td>[{\"id\": 1463, \"name\": \"culture clash\"}, {\"id\":...</td>\n      <td>en</td>\n      <td>Avatar</td>\n      <td>In the 22nd century, a paraplegic Marine is di...</td>\n      <td>150.437577</td>\n      <td>[{\"name\": \"Ingenious Film Partners\", \"id\": 289...</td>\n      <td>...</td>\n      <td>162.0</td>\n      <td>[{\"iso_639_1\": \"en\", \"name\": \"English\"}, {\"iso...</td>\n      <td>Released</td>\n      <td>Enter the World of Pandora.</td>\n      <td>Avatar</td>\n      <td>7.2</td>\n      <td>11800</td>\n      <td>19995</td>\n      <td>[{\"cast_id\": 242, \"character\": \"Jake Sully\", \"...</td>\n      <td>[{\"credit_id\": \"52fe48009251416c750aca23\", \"de...</td>\n    </tr>\n    <tr>\n      <th>1</th>\n      <td>300000000</td>\n      <td>[{\"id\": 12, \"name\": \"Adventure\"}, {\"id\": 14, \"...</td>\n      <td>http://disney.go.com/disneypictures/pirates/</td>\n      <td>285</td>\n      <td>[{\"id\": 270, \"name\": \"ocean\"}, {\"id\": 726, \"na...</td>\n      <td>en</td>\n      <td>Pirates of the Caribbean: At World's End</td>\n      <td>Captain Barbossa, long believed to be dead, ha...</td>\n      <td>139.082615</td>\n      <td>[{\"name\": \"Walt Disney Pictures\", \"id\": 2}, {\"...</td>\n      <td>...</td>\n      <td>169.0</td>\n      <td>[{\"iso_639_1\": \"en\", \"name\": \"English\"}]</td>\n      <td>Released</td>\n      <td>At the end of the world, the adventure begins.</td>\n      <td>Pirates of the Caribbean: At World's End</td>\n      <td>6.9</td>\n      <td>4500</td>\n      <td>285</td>\n      <td>[{\"cast_id\": 4, \"character\": \"Captain Jack Spa...</td>\n      <td>[{\"credit_id\": \"52fe4232c3a36847f800b579\", \"de...</td>\n    </tr>\n    <tr>\n      <th>2</th>\n      <td>245000000</td>\n      <td>[{\"id\": 28, \"name\": \"Action\"}, {\"id\": 12, \"nam...</td>\n      <td>http://www.sonypictures.com/movies/spectre/</td>\n      <td>206647</td>\n      <td>[{\"id\": 470, \"name\": \"spy\"}, {\"id\": 818, \"name...</td>\n      <td>en</td>\n      <td>Spectre</td>\n      <td>A cryptic message from Bond’s past sends him o...</td>\n      <td>107.376788</td>\n      <td>[{\"name\": \"Columbia Pictures\", \"id\": 5}, {\"nam...</td>\n      <td>...</td>\n      <td>148.0</td>\n      <td>[{\"iso_639_1\": \"fr\", \"name\": \"Fran\\u00e7ais\"},...</td>\n      <td>Released</td>\n      <td>A Plan No One Escapes</td>\n      <td>Spectre</td>\n      <td>6.3</td>\n      <td>4466</td>\n      <td>206647</td>\n      <td>[{\"cast_id\": 1, \"character\": \"James Bond\", \"cr...</td>\n      <td>[{\"credit_id\": \"54805967c3a36829b5002c41\", \"de...</td>\n    </tr>\n    <tr>\n      <th>3</th>\n      <td>250000000</td>\n      <td>[{\"id\": 28, \"name\": \"Action\"}, {\"id\": 80, \"nam...</td>\n      <td>http://www.thedarkknightrises.com/</td>\n      <td>49026</td>\n      <td>[{\"id\": 849, \"name\": \"dc comics\"}, {\"id\": 853,...</td>\n      <td>en</td>\n      <td>The Dark Knight Rises</td>\n      <td>Following the death of District Attorney Harve...</td>\n      <td>112.312950</td>\n      <td>[{\"name\": \"Legendary Pictures\", \"id\": 923}, {\"...</td>\n      <td>...</td>\n      <td>165.0</td>\n      <td>[{\"iso_639_1\": \"en\", \"name\": \"English\"}]</td>\n      <td>Released</td>\n      <td>The Legend Ends</td>\n      <td>The Dark Knight Rises</td>\n      <td>7.6</td>\n      <td>9106</td>\n      <td>49026</td>\n      <td>[{\"cast_id\": 2, \"character\": \"Bruce Wayne / Ba...</td>\n      <td>[{\"credit_id\": \"52fe4781c3a36847f81398c3\", \"de...</td>\n    </tr>\n    <tr>\n      <th>4</th>\n      <td>260000000</td>\n      <td>[{\"id\": 28, \"name\": \"Action\"}, {\"id\": 12, \"nam...</td>\n      <td>http://movies.disney.com/john-carter</td>\n      <td>49529</td>\n      <td>[{\"id\": 818, \"name\": \"based on novel\"}, {\"id\":...</td>\n      <td>en</td>\n      <td>John Carter</td>\n      <td>John Carter is a war-weary, former military ca...</td>\n      <td>43.926995</td>\n      <td>[{\"name\": \"Walt Disney Pictures\", \"id\": 2}]</td>\n      <td>...</td>\n      <td>132.0</td>\n      <td>[{\"iso_639_1\": \"en\", \"name\": \"English\"}]</td>\n      <td>Released</td>\n      <td>Lost in our world, found in another.</td>\n      <td>John Carter</td>\n      <td>6.1</td>\n      <td>2124</td>\n      <td>49529</td>\n      <td>[{\"cast_id\": 5, \"character\": \"John Carter\", \"c...</td>\n      <td>[{\"credit_id\": \"52fe479ac3a36847f813eaa3\", \"de...</td>\n    </tr>\n    <tr>\n      <th>...</th>\n      <td>...</td>\n      <td>...</td>\n      <td>...</td>\n      <td>...</td>\n      <td>...</td>\n      <td>...</td>\n      <td>...</td>\n      <td>...</td>\n      <td>...</td>\n      <td>...</td>\n      <td>...</td>\n      <td>...</td>\n      <td>...</td>\n      <td>...</td>\n      <td>...</td>\n      <td>...</td>\n      <td>...</td>\n      <td>...</td>\n      <td>...</td>\n      <td>...</td>\n      <td>...</td>\n    </tr>\n    <tr>\n      <th>4804</th>\n      <td>220000</td>\n      <td>[{\"id\": 28, \"name\": \"Action\"}, {\"id\": 80, \"nam...</td>\n      <td>NaN</td>\n      <td>9367</td>\n      <td>[{\"id\": 5616, \"name\": \"united states\\u2013mexi...</td>\n      <td>es</td>\n      <td>El Mariachi</td>\n      <td>El Mariachi just wants to play his guitar and ...</td>\n      <td>14.269792</td>\n      <td>[{\"name\": \"Columbia Pictures\", \"id\": 5}]</td>\n      <td>...</td>\n      <td>81.0</td>\n      <td>[{\"iso_639_1\": \"es\", \"name\": \"Espa\\u00f1ol\"}]</td>\n      <td>Released</td>\n      <td>He didn't come looking for trouble, but troubl...</td>\n      <td>El Mariachi</td>\n      <td>6.6</td>\n      <td>238</td>\n      <td>9367</td>\n      <td>[{\"cast_id\": 1, \"character\": \"El Mariachi\", \"c...</td>\n      <td>[{\"credit_id\": \"52fe44eec3a36847f80b280b\", \"de...</td>\n    </tr>\n    <tr>\n      <th>4805</th>\n      <td>9000</td>\n      <td>[{\"id\": 35, \"name\": \"Comedy\"}, {\"id\": 10749, \"...</td>\n      <td>NaN</td>\n      <td>72766</td>\n      <td>[]</td>\n      <td>en</td>\n      <td>Newlyweds</td>\n      <td>A newlywed couple's honeymoon is upended by th...</td>\n      <td>0.642552</td>\n      <td>[]</td>\n      <td>...</td>\n      <td>85.0</td>\n      <td>[]</td>\n      <td>Released</td>\n      <td>A newlywed couple's honeymoon is upended by th...</td>\n      <td>Newlyweds</td>\n      <td>5.9</td>\n      <td>5</td>\n      <td>72766</td>\n      <td>[{\"cast_id\": 1, \"character\": \"Buzzy\", \"credit_...</td>\n      <td>[{\"credit_id\": \"52fe487dc3a368484e0fb013\", \"de...</td>\n    </tr>\n    <tr>\n      <th>4806</th>\n      <td>0</td>\n      <td>[{\"id\": 35, \"name\": \"Comedy\"}, {\"id\": 18, \"nam...</td>\n      <td>http://www.hallmarkchannel.com/signedsealeddel...</td>\n      <td>231617</td>\n      <td>[{\"id\": 248, \"name\": \"date\"}, {\"id\": 699, \"nam...</td>\n      <td>en</td>\n      <td>Signed, Sealed, Delivered</td>\n      <td>\"Signed, Sealed, Delivered\" introduces a dedic...</td>\n      <td>1.444476</td>\n      <td>[{\"name\": \"Front Street Pictures\", \"id\": 3958}...</td>\n      <td>...</td>\n      <td>120.0</td>\n      <td>[{\"iso_639_1\": \"en\", \"name\": \"English\"}]</td>\n      <td>Released</td>\n      <td>NaN</td>\n      <td>Signed, Sealed, Delivered</td>\n      <td>7.0</td>\n      <td>6</td>\n      <td>231617</td>\n      <td>[{\"cast_id\": 8, \"character\": \"Oliver O\\u2019To...</td>\n      <td>[{\"credit_id\": \"52fe4df3c3a36847f8275ecf\", \"de...</td>\n    </tr>\n    <tr>\n      <th>4807</th>\n      <td>0</td>\n      <td>[]</td>\n      <td>http://shanghaicalling.com/</td>\n      <td>126186</td>\n      <td>[]</td>\n      <td>en</td>\n      <td>Shanghai Calling</td>\n      <td>When ambitious New York attorney Sam is sent t...</td>\n      <td>0.857008</td>\n      <td>[]</td>\n      <td>...</td>\n      <td>98.0</td>\n      <td>[{\"iso_639_1\": \"en\", \"name\": \"English\"}]</td>\n      <td>Released</td>\n      <td>A New Yorker in Shanghai</td>\n      <td>Shanghai Calling</td>\n      <td>5.7</td>\n      <td>7</td>\n      <td>126186</td>\n      <td>[{\"cast_id\": 3, \"character\": \"Sam\", \"credit_id...</td>\n      <td>[{\"credit_id\": \"52fe4ad9c3a368484e16a36b\", \"de...</td>\n    </tr>\n    <tr>\n      <th>4808</th>\n      <td>0</td>\n      <td>[{\"id\": 99, \"name\": \"Documentary\"}]</td>\n      <td>NaN</td>\n      <td>25975</td>\n      <td>[{\"id\": 1523, \"name\": \"obsession\"}, {\"id\": 224...</td>\n      <td>en</td>\n      <td>My Date with Drew</td>\n      <td>Ever since the second grade when he first saw ...</td>\n      <td>1.929883</td>\n      <td>[{\"name\": \"rusty bear entertainment\", \"id\": 87...</td>\n      <td>...</td>\n      <td>90.0</td>\n      <td>[{\"iso_639_1\": \"en\", \"name\": \"English\"}]</td>\n      <td>Released</td>\n      <td>NaN</td>\n      <td>My Date with Drew</td>\n      <td>6.3</td>\n      <td>16</td>\n      <td>25975</td>\n      <td>[{\"cast_id\": 3, \"character\": \"Herself\", \"credi...</td>\n      <td>[{\"credit_id\": \"58ce021b9251415a390165d9\", \"de...</td>\n    </tr>\n  </tbody>\n</table>\n<p>4809 rows × 23 columns</p>\n</div>"
     },
     "execution_count": 7,
     "metadata": {},
     "output_type": "execute_result"
    }
   ],
   "source": [
    "movies = movies.merge(credits,on='title')\n",
    "movies"
   ],
   "metadata": {
    "collapsed": false,
    "ExecuteTime": {
     "end_time": "2023-12-01T05:30:56.195903500Z",
     "start_time": "2023-12-01T05:30:55.745066300Z"
    }
   },
   "id": "19a5b58f9dce0622"
  },
  {
   "cell_type": "code",
   "execution_count": 8,
   "outputs": [],
   "source": [
    "movies = movies[['movie_id','title','overview','genres','keywords','cast','crew']]"
   ],
   "metadata": {
    "collapsed": false,
    "ExecuteTime": {
     "end_time": "2023-12-01T05:31:00.426762Z",
     "start_time": "2023-12-01T05:31:00.200042200Z"
    }
   },
   "id": "f01e0a4424971f4e"
  },
  {
   "cell_type": "code",
   "execution_count": 9,
   "outputs": [
    {
     "data": {
      "text/plain": "      movie_id                                     title  \\\n0        19995                                    Avatar   \n1          285  Pirates of the Caribbean: At World's End   \n2       206647                                   Spectre   \n3        49026                     The Dark Knight Rises   \n4        49529                               John Carter   \n...        ...                                       ...   \n4804      9367                               El Mariachi   \n4805     72766                                 Newlyweds   \n4806    231617                 Signed, Sealed, Delivered   \n4807    126186                          Shanghai Calling   \n4808     25975                         My Date with Drew   \n\n                                               overview  \\\n0     In the 22nd century, a paraplegic Marine is di...   \n1     Captain Barbossa, long believed to be dead, ha...   \n2     A cryptic message from Bond’s past sends him o...   \n3     Following the death of District Attorney Harve...   \n4     John Carter is a war-weary, former military ca...   \n...                                                 ...   \n4804  El Mariachi just wants to play his guitar and ...   \n4805  A newlywed couple's honeymoon is upended by th...   \n4806  \"Signed, Sealed, Delivered\" introduces a dedic...   \n4807  When ambitious New York attorney Sam is sent t...   \n4808  Ever since the second grade when he first saw ...   \n\n                                                 genres  \\\n0     [{\"id\": 28, \"name\": \"Action\"}, {\"id\": 12, \"nam...   \n1     [{\"id\": 12, \"name\": \"Adventure\"}, {\"id\": 14, \"...   \n2     [{\"id\": 28, \"name\": \"Action\"}, {\"id\": 12, \"nam...   \n3     [{\"id\": 28, \"name\": \"Action\"}, {\"id\": 80, \"nam...   \n4     [{\"id\": 28, \"name\": \"Action\"}, {\"id\": 12, \"nam...   \n...                                                 ...   \n4804  [{\"id\": 28, \"name\": \"Action\"}, {\"id\": 80, \"nam...   \n4805  [{\"id\": 35, \"name\": \"Comedy\"}, {\"id\": 10749, \"...   \n4806  [{\"id\": 35, \"name\": \"Comedy\"}, {\"id\": 18, \"nam...   \n4807                                                 []   \n4808                [{\"id\": 99, \"name\": \"Documentary\"}]   \n\n                                               keywords  \\\n0     [{\"id\": 1463, \"name\": \"culture clash\"}, {\"id\":...   \n1     [{\"id\": 270, \"name\": \"ocean\"}, {\"id\": 726, \"na...   \n2     [{\"id\": 470, \"name\": \"spy\"}, {\"id\": 818, \"name...   \n3     [{\"id\": 849, \"name\": \"dc comics\"}, {\"id\": 853,...   \n4     [{\"id\": 818, \"name\": \"based on novel\"}, {\"id\":...   \n...                                                 ...   \n4804  [{\"id\": 5616, \"name\": \"united states\\u2013mexi...   \n4805                                                 []   \n4806  [{\"id\": 248, \"name\": \"date\"}, {\"id\": 699, \"nam...   \n4807                                                 []   \n4808  [{\"id\": 1523, \"name\": \"obsession\"}, {\"id\": 224...   \n\n                                                   cast  \\\n0     [{\"cast_id\": 242, \"character\": \"Jake Sully\", \"...   \n1     [{\"cast_id\": 4, \"character\": \"Captain Jack Spa...   \n2     [{\"cast_id\": 1, \"character\": \"James Bond\", \"cr...   \n3     [{\"cast_id\": 2, \"character\": \"Bruce Wayne / Ba...   \n4     [{\"cast_id\": 5, \"character\": \"John Carter\", \"c...   \n...                                                 ...   \n4804  [{\"cast_id\": 1, \"character\": \"El Mariachi\", \"c...   \n4805  [{\"cast_id\": 1, \"character\": \"Buzzy\", \"credit_...   \n4806  [{\"cast_id\": 8, \"character\": \"Oliver O\\u2019To...   \n4807  [{\"cast_id\": 3, \"character\": \"Sam\", \"credit_id...   \n4808  [{\"cast_id\": 3, \"character\": \"Herself\", \"credi...   \n\n                                                   crew  \n0     [{\"credit_id\": \"52fe48009251416c750aca23\", \"de...  \n1     [{\"credit_id\": \"52fe4232c3a36847f800b579\", \"de...  \n2     [{\"credit_id\": \"54805967c3a36829b5002c41\", \"de...  \n3     [{\"credit_id\": \"52fe4781c3a36847f81398c3\", \"de...  \n4     [{\"credit_id\": \"52fe479ac3a36847f813eaa3\", \"de...  \n...                                                 ...  \n4804  [{\"credit_id\": \"52fe44eec3a36847f80b280b\", \"de...  \n4805  [{\"credit_id\": \"52fe487dc3a368484e0fb013\", \"de...  \n4806  [{\"credit_id\": \"52fe4df3c3a36847f8275ecf\", \"de...  \n4807  [{\"credit_id\": \"52fe4ad9c3a368484e16a36b\", \"de...  \n4808  [{\"credit_id\": \"58ce021b9251415a390165d9\", \"de...  \n\n[4809 rows x 7 columns]",
      "text/html": "<div>\n<style scoped>\n    .dataframe tbody tr th:only-of-type {\n        vertical-align: middle;\n    }\n\n    .dataframe tbody tr th {\n        vertical-align: top;\n    }\n\n    .dataframe thead th {\n        text-align: right;\n    }\n</style>\n<table border=\"1\" class=\"dataframe\">\n  <thead>\n    <tr style=\"text-align: right;\">\n      <th></th>\n      <th>movie_id</th>\n      <th>title</th>\n      <th>overview</th>\n      <th>genres</th>\n      <th>keywords</th>\n      <th>cast</th>\n      <th>crew</th>\n    </tr>\n  </thead>\n  <tbody>\n    <tr>\n      <th>0</th>\n      <td>19995</td>\n      <td>Avatar</td>\n      <td>In the 22nd century, a paraplegic Marine is di...</td>\n      <td>[{\"id\": 28, \"name\": \"Action\"}, {\"id\": 12, \"nam...</td>\n      <td>[{\"id\": 1463, \"name\": \"culture clash\"}, {\"id\":...</td>\n      <td>[{\"cast_id\": 242, \"character\": \"Jake Sully\", \"...</td>\n      <td>[{\"credit_id\": \"52fe48009251416c750aca23\", \"de...</td>\n    </tr>\n    <tr>\n      <th>1</th>\n      <td>285</td>\n      <td>Pirates of the Caribbean: At World's End</td>\n      <td>Captain Barbossa, long believed to be dead, ha...</td>\n      <td>[{\"id\": 12, \"name\": \"Adventure\"}, {\"id\": 14, \"...</td>\n      <td>[{\"id\": 270, \"name\": \"ocean\"}, {\"id\": 726, \"na...</td>\n      <td>[{\"cast_id\": 4, \"character\": \"Captain Jack Spa...</td>\n      <td>[{\"credit_id\": \"52fe4232c3a36847f800b579\", \"de...</td>\n    </tr>\n    <tr>\n      <th>2</th>\n      <td>206647</td>\n      <td>Spectre</td>\n      <td>A cryptic message from Bond’s past sends him o...</td>\n      <td>[{\"id\": 28, \"name\": \"Action\"}, {\"id\": 12, \"nam...</td>\n      <td>[{\"id\": 470, \"name\": \"spy\"}, {\"id\": 818, \"name...</td>\n      <td>[{\"cast_id\": 1, \"character\": \"James Bond\", \"cr...</td>\n      <td>[{\"credit_id\": \"54805967c3a36829b5002c41\", \"de...</td>\n    </tr>\n    <tr>\n      <th>3</th>\n      <td>49026</td>\n      <td>The Dark Knight Rises</td>\n      <td>Following the death of District Attorney Harve...</td>\n      <td>[{\"id\": 28, \"name\": \"Action\"}, {\"id\": 80, \"nam...</td>\n      <td>[{\"id\": 849, \"name\": \"dc comics\"}, {\"id\": 853,...</td>\n      <td>[{\"cast_id\": 2, \"character\": \"Bruce Wayne / Ba...</td>\n      <td>[{\"credit_id\": \"52fe4781c3a36847f81398c3\", \"de...</td>\n    </tr>\n    <tr>\n      <th>4</th>\n      <td>49529</td>\n      <td>John Carter</td>\n      <td>John Carter is a war-weary, former military ca...</td>\n      <td>[{\"id\": 28, \"name\": \"Action\"}, {\"id\": 12, \"nam...</td>\n      <td>[{\"id\": 818, \"name\": \"based on novel\"}, {\"id\":...</td>\n      <td>[{\"cast_id\": 5, \"character\": \"John Carter\", \"c...</td>\n      <td>[{\"credit_id\": \"52fe479ac3a36847f813eaa3\", \"de...</td>\n    </tr>\n    <tr>\n      <th>...</th>\n      <td>...</td>\n      <td>...</td>\n      <td>...</td>\n      <td>...</td>\n      <td>...</td>\n      <td>...</td>\n      <td>...</td>\n    </tr>\n    <tr>\n      <th>4804</th>\n      <td>9367</td>\n      <td>El Mariachi</td>\n      <td>El Mariachi just wants to play his guitar and ...</td>\n      <td>[{\"id\": 28, \"name\": \"Action\"}, {\"id\": 80, \"nam...</td>\n      <td>[{\"id\": 5616, \"name\": \"united states\\u2013mexi...</td>\n      <td>[{\"cast_id\": 1, \"character\": \"El Mariachi\", \"c...</td>\n      <td>[{\"credit_id\": \"52fe44eec3a36847f80b280b\", \"de...</td>\n    </tr>\n    <tr>\n      <th>4805</th>\n      <td>72766</td>\n      <td>Newlyweds</td>\n      <td>A newlywed couple's honeymoon is upended by th...</td>\n      <td>[{\"id\": 35, \"name\": \"Comedy\"}, {\"id\": 10749, \"...</td>\n      <td>[]</td>\n      <td>[{\"cast_id\": 1, \"character\": \"Buzzy\", \"credit_...</td>\n      <td>[{\"credit_id\": \"52fe487dc3a368484e0fb013\", \"de...</td>\n    </tr>\n    <tr>\n      <th>4806</th>\n      <td>231617</td>\n      <td>Signed, Sealed, Delivered</td>\n      <td>\"Signed, Sealed, Delivered\" introduces a dedic...</td>\n      <td>[{\"id\": 35, \"name\": \"Comedy\"}, {\"id\": 18, \"nam...</td>\n      <td>[{\"id\": 248, \"name\": \"date\"}, {\"id\": 699, \"nam...</td>\n      <td>[{\"cast_id\": 8, \"character\": \"Oliver O\\u2019To...</td>\n      <td>[{\"credit_id\": \"52fe4df3c3a36847f8275ecf\", \"de...</td>\n    </tr>\n    <tr>\n      <th>4807</th>\n      <td>126186</td>\n      <td>Shanghai Calling</td>\n      <td>When ambitious New York attorney Sam is sent t...</td>\n      <td>[]</td>\n      <td>[]</td>\n      <td>[{\"cast_id\": 3, \"character\": \"Sam\", \"credit_id...</td>\n      <td>[{\"credit_id\": \"52fe4ad9c3a368484e16a36b\", \"de...</td>\n    </tr>\n    <tr>\n      <th>4808</th>\n      <td>25975</td>\n      <td>My Date with Drew</td>\n      <td>Ever since the second grade when he first saw ...</td>\n      <td>[{\"id\": 99, \"name\": \"Documentary\"}]</td>\n      <td>[{\"id\": 1523, \"name\": \"obsession\"}, {\"id\": 224...</td>\n      <td>[{\"cast_id\": 3, \"character\": \"Herself\", \"credi...</td>\n      <td>[{\"credit_id\": \"58ce021b9251415a390165d9\", \"de...</td>\n    </tr>\n  </tbody>\n</table>\n<p>4809 rows × 7 columns</p>\n</div>"
     },
     "execution_count": 9,
     "metadata": {},
     "output_type": "execute_result"
    }
   ],
   "source": [
    "movies"
   ],
   "metadata": {
    "collapsed": false,
    "ExecuteTime": {
     "end_time": "2023-12-01T05:31:04.895388700Z",
     "start_time": "2023-12-01T05:31:04.715174Z"
    }
   },
   "id": "cb32bb864133b408"
  },
  {
   "cell_type": "code",
   "execution_count": 10,
   "outputs": [
    {
     "data": {
      "text/plain": "movie_id    0\ntitle       0\noverview    3\ngenres      0\nkeywords    0\ncast        0\ncrew        0\ndtype: int64"
     },
     "execution_count": 10,
     "metadata": {},
     "output_type": "execute_result"
    }
   ],
   "source": [
    "movies.isnull().sum()"
   ],
   "metadata": {
    "collapsed": false,
    "ExecuteTime": {
     "end_time": "2023-12-01T05:31:08.578689200Z",
     "start_time": "2023-12-01T05:31:08.312411300Z"
    }
   },
   "id": "2129cbbeb4c5053f"
  },
  {
   "cell_type": "code",
   "execution_count": 11,
   "outputs": [
    {
     "name": "stderr",
     "output_type": "stream",
     "text": [
      "C:\\Users\\user\\AppData\\Local\\Temp\\ipykernel_8024\\983224553.py:1: SettingWithCopyWarning: \n",
      "A value is trying to be set on a copy of a slice from a DataFrame\n",
      "\n",
      "See the caveats in the documentation: https://pandas.pydata.org/pandas-docs/stable/user_guide/indexing.html#returning-a-view-versus-a-copy\n",
      "  movies.dropna(inplace=True)\n"
     ]
    }
   ],
   "source": [
    "movies.dropna(inplace=True)"
   ],
   "metadata": {
    "collapsed": false,
    "ExecuteTime": {
     "end_time": "2023-12-01T05:31:12.278630500Z",
     "start_time": "2023-12-01T05:31:12.012343700Z"
    }
   },
   "id": "bb1a95fd23b1fadd"
  },
  {
   "cell_type": "code",
   "execution_count": 12,
   "outputs": [
    {
     "data": {
      "text/plain": "movie_id    0\ntitle       0\noverview    0\ngenres      0\nkeywords    0\ncast        0\ncrew        0\ndtype: int64"
     },
     "execution_count": 12,
     "metadata": {},
     "output_type": "execute_result"
    }
   ],
   "source": [
    "movies.isnull().sum()"
   ],
   "metadata": {
    "collapsed": false,
    "ExecuteTime": {
     "end_time": "2023-12-01T05:31:14.249858300Z",
     "start_time": "2023-12-01T05:31:14.034109200Z"
    }
   },
   "id": "980864ed241deb59"
  },
  {
   "cell_type": "code",
   "execution_count": 13,
   "outputs": [
    {
     "data": {
      "text/plain": "(4806, 7)"
     },
     "execution_count": 13,
     "metadata": {},
     "output_type": "execute_result"
    }
   ],
   "source": [
    "movies.shape"
   ],
   "metadata": {
    "collapsed": false,
    "ExecuteTime": {
     "end_time": "2023-12-01T05:31:15.448221200Z",
     "start_time": "2023-12-01T05:31:15.154452600Z"
    }
   },
   "id": "52cd69eb71742c2"
  },
  {
   "cell_type": "code",
   "execution_count": 14,
   "outputs": [
    {
     "data": {
      "text/plain": "0"
     },
     "execution_count": 14,
     "metadata": {},
     "output_type": "execute_result"
    }
   ],
   "source": [
    "movies.duplicated().sum()"
   ],
   "metadata": {
    "collapsed": false,
    "ExecuteTime": {
     "end_time": "2023-12-01T05:31:16.655082600Z",
     "start_time": "2023-12-01T05:31:16.354849700Z"
    }
   },
   "id": "1e9223202fbadc05"
  },
  {
   "cell_type": "code",
   "execution_count": 15,
   "outputs": [
    {
     "data": {
      "text/plain": "      movie_id                                     title  \\\n0        19995                                    Avatar   \n1          285  Pirates of the Caribbean: At World's End   \n2       206647                                   Spectre   \n3        49026                     The Dark Knight Rises   \n4        49529                               John Carter   \n...        ...                                       ...   \n4804      9367                               El Mariachi   \n4805     72766                                 Newlyweds   \n4806    231617                 Signed, Sealed, Delivered   \n4807    126186                          Shanghai Calling   \n4808     25975                         My Date with Drew   \n\n                                               overview  \\\n0     In the 22nd century, a paraplegic Marine is di...   \n1     Captain Barbossa, long believed to be dead, ha...   \n2     A cryptic message from Bond’s past sends him o...   \n3     Following the death of District Attorney Harve...   \n4     John Carter is a war-weary, former military ca...   \n...                                                 ...   \n4804  El Mariachi just wants to play his guitar and ...   \n4805  A newlywed couple's honeymoon is upended by th...   \n4806  \"Signed, Sealed, Delivered\" introduces a dedic...   \n4807  When ambitious New York attorney Sam is sent t...   \n4808  Ever since the second grade when he first saw ...   \n\n                                                 genres  \\\n0     [{\"id\": 28, \"name\": \"Action\"}, {\"id\": 12, \"nam...   \n1     [{\"id\": 12, \"name\": \"Adventure\"}, {\"id\": 14, \"...   \n2     [{\"id\": 28, \"name\": \"Action\"}, {\"id\": 12, \"nam...   \n3     [{\"id\": 28, \"name\": \"Action\"}, {\"id\": 80, \"nam...   \n4     [{\"id\": 28, \"name\": \"Action\"}, {\"id\": 12, \"nam...   \n...                                                 ...   \n4804  [{\"id\": 28, \"name\": \"Action\"}, {\"id\": 80, \"nam...   \n4805  [{\"id\": 35, \"name\": \"Comedy\"}, {\"id\": 10749, \"...   \n4806  [{\"id\": 35, \"name\": \"Comedy\"}, {\"id\": 18, \"nam...   \n4807                                                 []   \n4808                [{\"id\": 99, \"name\": \"Documentary\"}]   \n\n                                               keywords  \\\n0     [{\"id\": 1463, \"name\": \"culture clash\"}, {\"id\":...   \n1     [{\"id\": 270, \"name\": \"ocean\"}, {\"id\": 726, \"na...   \n2     [{\"id\": 470, \"name\": \"spy\"}, {\"id\": 818, \"name...   \n3     [{\"id\": 849, \"name\": \"dc comics\"}, {\"id\": 853,...   \n4     [{\"id\": 818, \"name\": \"based on novel\"}, {\"id\":...   \n...                                                 ...   \n4804  [{\"id\": 5616, \"name\": \"united states\\u2013mexi...   \n4805                                                 []   \n4806  [{\"id\": 248, \"name\": \"date\"}, {\"id\": 699, \"nam...   \n4807                                                 []   \n4808  [{\"id\": 1523, \"name\": \"obsession\"}, {\"id\": 224...   \n\n                                                   cast  \\\n0     [{\"cast_id\": 242, \"character\": \"Jake Sully\", \"...   \n1     [{\"cast_id\": 4, \"character\": \"Captain Jack Spa...   \n2     [{\"cast_id\": 1, \"character\": \"James Bond\", \"cr...   \n3     [{\"cast_id\": 2, \"character\": \"Bruce Wayne / Ba...   \n4     [{\"cast_id\": 5, \"character\": \"John Carter\", \"c...   \n...                                                 ...   \n4804  [{\"cast_id\": 1, \"character\": \"El Mariachi\", \"c...   \n4805  [{\"cast_id\": 1, \"character\": \"Buzzy\", \"credit_...   \n4806  [{\"cast_id\": 8, \"character\": \"Oliver O\\u2019To...   \n4807  [{\"cast_id\": 3, \"character\": \"Sam\", \"credit_id...   \n4808  [{\"cast_id\": 3, \"character\": \"Herself\", \"credi...   \n\n                                                   crew  \n0     [{\"credit_id\": \"52fe48009251416c750aca23\", \"de...  \n1     [{\"credit_id\": \"52fe4232c3a36847f800b579\", \"de...  \n2     [{\"credit_id\": \"54805967c3a36829b5002c41\", \"de...  \n3     [{\"credit_id\": \"52fe4781c3a36847f81398c3\", \"de...  \n4     [{\"credit_id\": \"52fe479ac3a36847f813eaa3\", \"de...  \n...                                                 ...  \n4804  [{\"credit_id\": \"52fe44eec3a36847f80b280b\", \"de...  \n4805  [{\"credit_id\": \"52fe487dc3a368484e0fb013\", \"de...  \n4806  [{\"credit_id\": \"52fe4df3c3a36847f8275ecf\", \"de...  \n4807  [{\"credit_id\": \"52fe4ad9c3a368484e16a36b\", \"de...  \n4808  [{\"credit_id\": \"58ce021b9251415a390165d9\", \"de...  \n\n[4806 rows x 7 columns]",
      "text/html": "<div>\n<style scoped>\n    .dataframe tbody tr th:only-of-type {\n        vertical-align: middle;\n    }\n\n    .dataframe tbody tr th {\n        vertical-align: top;\n    }\n\n    .dataframe thead th {\n        text-align: right;\n    }\n</style>\n<table border=\"1\" class=\"dataframe\">\n  <thead>\n    <tr style=\"text-align: right;\">\n      <th></th>\n      <th>movie_id</th>\n      <th>title</th>\n      <th>overview</th>\n      <th>genres</th>\n      <th>keywords</th>\n      <th>cast</th>\n      <th>crew</th>\n    </tr>\n  </thead>\n  <tbody>\n    <tr>\n      <th>0</th>\n      <td>19995</td>\n      <td>Avatar</td>\n      <td>In the 22nd century, a paraplegic Marine is di...</td>\n      <td>[{\"id\": 28, \"name\": \"Action\"}, {\"id\": 12, \"nam...</td>\n      <td>[{\"id\": 1463, \"name\": \"culture clash\"}, {\"id\":...</td>\n      <td>[{\"cast_id\": 242, \"character\": \"Jake Sully\", \"...</td>\n      <td>[{\"credit_id\": \"52fe48009251416c750aca23\", \"de...</td>\n    </tr>\n    <tr>\n      <th>1</th>\n      <td>285</td>\n      <td>Pirates of the Caribbean: At World's End</td>\n      <td>Captain Barbossa, long believed to be dead, ha...</td>\n      <td>[{\"id\": 12, \"name\": \"Adventure\"}, {\"id\": 14, \"...</td>\n      <td>[{\"id\": 270, \"name\": \"ocean\"}, {\"id\": 726, \"na...</td>\n      <td>[{\"cast_id\": 4, \"character\": \"Captain Jack Spa...</td>\n      <td>[{\"credit_id\": \"52fe4232c3a36847f800b579\", \"de...</td>\n    </tr>\n    <tr>\n      <th>2</th>\n      <td>206647</td>\n      <td>Spectre</td>\n      <td>A cryptic message from Bond’s past sends him o...</td>\n      <td>[{\"id\": 28, \"name\": \"Action\"}, {\"id\": 12, \"nam...</td>\n      <td>[{\"id\": 470, \"name\": \"spy\"}, {\"id\": 818, \"name...</td>\n      <td>[{\"cast_id\": 1, \"character\": \"James Bond\", \"cr...</td>\n      <td>[{\"credit_id\": \"54805967c3a36829b5002c41\", \"de...</td>\n    </tr>\n    <tr>\n      <th>3</th>\n      <td>49026</td>\n      <td>The Dark Knight Rises</td>\n      <td>Following the death of District Attorney Harve...</td>\n      <td>[{\"id\": 28, \"name\": \"Action\"}, {\"id\": 80, \"nam...</td>\n      <td>[{\"id\": 849, \"name\": \"dc comics\"}, {\"id\": 853,...</td>\n      <td>[{\"cast_id\": 2, \"character\": \"Bruce Wayne / Ba...</td>\n      <td>[{\"credit_id\": \"52fe4781c3a36847f81398c3\", \"de...</td>\n    </tr>\n    <tr>\n      <th>4</th>\n      <td>49529</td>\n      <td>John Carter</td>\n      <td>John Carter is a war-weary, former military ca...</td>\n      <td>[{\"id\": 28, \"name\": \"Action\"}, {\"id\": 12, \"nam...</td>\n      <td>[{\"id\": 818, \"name\": \"based on novel\"}, {\"id\":...</td>\n      <td>[{\"cast_id\": 5, \"character\": \"John Carter\", \"c...</td>\n      <td>[{\"credit_id\": \"52fe479ac3a36847f813eaa3\", \"de...</td>\n    </tr>\n    <tr>\n      <th>...</th>\n      <td>...</td>\n      <td>...</td>\n      <td>...</td>\n      <td>...</td>\n      <td>...</td>\n      <td>...</td>\n      <td>...</td>\n    </tr>\n    <tr>\n      <th>4804</th>\n      <td>9367</td>\n      <td>El Mariachi</td>\n      <td>El Mariachi just wants to play his guitar and ...</td>\n      <td>[{\"id\": 28, \"name\": \"Action\"}, {\"id\": 80, \"nam...</td>\n      <td>[{\"id\": 5616, \"name\": \"united states\\u2013mexi...</td>\n      <td>[{\"cast_id\": 1, \"character\": \"El Mariachi\", \"c...</td>\n      <td>[{\"credit_id\": \"52fe44eec3a36847f80b280b\", \"de...</td>\n    </tr>\n    <tr>\n      <th>4805</th>\n      <td>72766</td>\n      <td>Newlyweds</td>\n      <td>A newlywed couple's honeymoon is upended by th...</td>\n      <td>[{\"id\": 35, \"name\": \"Comedy\"}, {\"id\": 10749, \"...</td>\n      <td>[]</td>\n      <td>[{\"cast_id\": 1, \"character\": \"Buzzy\", \"credit_...</td>\n      <td>[{\"credit_id\": \"52fe487dc3a368484e0fb013\", \"de...</td>\n    </tr>\n    <tr>\n      <th>4806</th>\n      <td>231617</td>\n      <td>Signed, Sealed, Delivered</td>\n      <td>\"Signed, Sealed, Delivered\" introduces a dedic...</td>\n      <td>[{\"id\": 35, \"name\": \"Comedy\"}, {\"id\": 18, \"nam...</td>\n      <td>[{\"id\": 248, \"name\": \"date\"}, {\"id\": 699, \"nam...</td>\n      <td>[{\"cast_id\": 8, \"character\": \"Oliver O\\u2019To...</td>\n      <td>[{\"credit_id\": \"52fe4df3c3a36847f8275ecf\", \"de...</td>\n    </tr>\n    <tr>\n      <th>4807</th>\n      <td>126186</td>\n      <td>Shanghai Calling</td>\n      <td>When ambitious New York attorney Sam is sent t...</td>\n      <td>[]</td>\n      <td>[]</td>\n      <td>[{\"cast_id\": 3, \"character\": \"Sam\", \"credit_id...</td>\n      <td>[{\"credit_id\": \"52fe4ad9c3a368484e16a36b\", \"de...</td>\n    </tr>\n    <tr>\n      <th>4808</th>\n      <td>25975</td>\n      <td>My Date with Drew</td>\n      <td>Ever since the second grade when he first saw ...</td>\n      <td>[{\"id\": 99, \"name\": \"Documentary\"}]</td>\n      <td>[{\"id\": 1523, \"name\": \"obsession\"}, {\"id\": 224...</td>\n      <td>[{\"cast_id\": 3, \"character\": \"Herself\", \"credi...</td>\n      <td>[{\"credit_id\": \"58ce021b9251415a390165d9\", \"de...</td>\n    </tr>\n  </tbody>\n</table>\n<p>4806 rows × 7 columns</p>\n</div>"
     },
     "execution_count": 15,
     "metadata": {},
     "output_type": "execute_result"
    }
   ],
   "source": [
    "movies"
   ],
   "metadata": {
    "collapsed": false,
    "ExecuteTime": {
     "end_time": "2023-12-01T05:31:19.180789Z",
     "start_time": "2023-12-01T05:31:18.906514900Z"
    }
   },
   "id": "c498f8e738edb23a"
  },
  {
   "cell_type": "code",
   "execution_count": 16,
   "outputs": [
    {
     "data": {
      "text/plain": "'[{\"id\": 28, \"name\": \"Action\"}, {\"id\": 12, \"name\": \"Adventure\"}, {\"id\": 14, \"name\": \"Fantasy\"}, {\"id\": 878, \"name\": \"Science Fiction\"}]'"
     },
     "execution_count": 16,
     "metadata": {},
     "output_type": "execute_result"
    }
   ],
   "source": [
    "movies.iloc[0].genres"
   ],
   "metadata": {
    "collapsed": false,
    "ExecuteTime": {
     "end_time": "2023-12-01T05:31:21.690367600Z",
     "start_time": "2023-12-01T05:31:21.517012600Z"
    }
   },
   "id": "231fd601ff762e23"
  },
  {
   "cell_type": "code",
   "execution_count": 17,
   "outputs": [],
   "source": [
    "def convert(obj):\n",
    "    L = []\n",
    "    for i in ast.literal_eval(obj):\n",
    "        L.append(i[\"name\"])\n",
    "    return L"
   ],
   "metadata": {
    "collapsed": false,
    "ExecuteTime": {
     "end_time": "2023-12-01T05:31:24.104414900Z",
     "start_time": "2023-12-01T05:31:23.932154900Z"
    }
   },
   "id": "e2dc5ba8ed17a63f"
  },
  {
   "cell_type": "code",
   "execution_count": 18,
   "outputs": [
    {
     "data": {
      "text/plain": "['Action', 'Adventure', 'Fantasy', 'Science Fiction']"
     },
     "execution_count": 18,
     "metadata": {},
     "output_type": "execute_result"
    }
   ],
   "source": [
    "convert('[{\"id\": 28, \"name\": \"Action\"}, {\"id\": 12, \"name\": \"Adventure\"}, {\"id\": 14, \"name\": \"Fantasy\"}, {\"id\": 878, \"name\": \"Science Fiction\"}]')"
   ],
   "metadata": {
    "collapsed": false,
    "ExecuteTime": {
     "end_time": "2023-12-01T05:31:25.952693200Z",
     "start_time": "2023-12-01T05:31:25.791273200Z"
    }
   },
   "id": "ad8cf16131251940"
  },
  {
   "cell_type": "code",
   "execution_count": 19,
   "outputs": [
    {
     "data": {
      "text/plain": "0       [Action, Adventure, Fantasy, Science Fiction]\n1                        [Adventure, Fantasy, Action]\n2                          [Action, Adventure, Crime]\n3                    [Action, Crime, Drama, Thriller]\n4                [Action, Adventure, Science Fiction]\n                            ...                      \n4804                        [Action, Crime, Thriller]\n4805                                [Comedy, Romance]\n4806               [Comedy, Drama, Romance, TV Movie]\n4807                                               []\n4808                                    [Documentary]\nName: genres, Length: 4806, dtype: object"
     },
     "execution_count": 19,
     "metadata": {},
     "output_type": "execute_result"
    }
   ],
   "source": [
    "movies['genres'].apply(convert)"
   ],
   "metadata": {
    "collapsed": false,
    "ExecuteTime": {
     "end_time": "2023-12-01T05:31:28.602175Z",
     "start_time": "2023-12-01T05:31:27.657053Z"
    }
   },
   "id": "666fd92314a104e"
  },
  {
   "cell_type": "code",
   "execution_count": 20,
   "outputs": [
    {
     "name": "stderr",
     "output_type": "stream",
     "text": [
      "C:\\Users\\user\\AppData\\Local\\Temp\\ipykernel_8024\\2740436845.py:1: SettingWithCopyWarning: \n",
      "A value is trying to be set on a copy of a slice from a DataFrame.\n",
      "Try using .loc[row_indexer,col_indexer] = value instead\n",
      "\n",
      "See the caveats in the documentation: https://pandas.pydata.org/pandas-docs/stable/user_guide/indexing.html#returning-a-view-versus-a-copy\n",
      "  movies['genres'] = movies['genres'].apply(convert)\n"
     ]
    }
   ],
   "source": [
    "movies['genres'] = movies['genres'].apply(convert)"
   ],
   "metadata": {
    "collapsed": false,
    "ExecuteTime": {
     "end_time": "2023-12-01T05:31:32.482308800Z",
     "start_time": "2023-12-01T05:31:30.560255500Z"
    }
   },
   "id": "920b03b7eb520698"
  },
  {
   "cell_type": "code",
   "execution_count": 21,
   "outputs": [
    {
     "data": {
      "text/plain": "   movie_id   title                                           overview  \\\n0     19995  Avatar  In the 22nd century, a paraplegic Marine is di...   \n\n                                          genres  \\\n0  [Action, Adventure, Fantasy, Science Fiction]   \n\n                                            keywords  \\\n0  [{\"id\": 1463, \"name\": \"culture clash\"}, {\"id\":...   \n\n                                                cast  \\\n0  [{\"cast_id\": 242, \"character\": \"Jake Sully\", \"...   \n\n                                                crew  \n0  [{\"credit_id\": \"52fe48009251416c750aca23\", \"de...  ",
      "text/html": "<div>\n<style scoped>\n    .dataframe tbody tr th:only-of-type {\n        vertical-align: middle;\n    }\n\n    .dataframe tbody tr th {\n        vertical-align: top;\n    }\n\n    .dataframe thead th {\n        text-align: right;\n    }\n</style>\n<table border=\"1\" class=\"dataframe\">\n  <thead>\n    <tr style=\"text-align: right;\">\n      <th></th>\n      <th>movie_id</th>\n      <th>title</th>\n      <th>overview</th>\n      <th>genres</th>\n      <th>keywords</th>\n      <th>cast</th>\n      <th>crew</th>\n    </tr>\n  </thead>\n  <tbody>\n    <tr>\n      <th>0</th>\n      <td>19995</td>\n      <td>Avatar</td>\n      <td>In the 22nd century, a paraplegic Marine is di...</td>\n      <td>[Action, Adventure, Fantasy, Science Fiction]</td>\n      <td>[{\"id\": 1463, \"name\": \"culture clash\"}, {\"id\":...</td>\n      <td>[{\"cast_id\": 242, \"character\": \"Jake Sully\", \"...</td>\n      <td>[{\"credit_id\": \"52fe48009251416c750aca23\", \"de...</td>\n    </tr>\n  </tbody>\n</table>\n</div>"
     },
     "execution_count": 21,
     "metadata": {},
     "output_type": "execute_result"
    }
   ],
   "source": [
    "movies.head(1)"
   ],
   "metadata": {
    "collapsed": false,
    "ExecuteTime": {
     "end_time": "2023-12-01T05:31:34.099790Z",
     "start_time": "2023-12-01T05:31:33.806595100Z"
    }
   },
   "id": "3e678cabf6210870"
  },
  {
   "cell_type": "code",
   "execution_count": 22,
   "outputs": [
    {
     "data": {
      "text/plain": "0       [culture clash, future, space war, space colon...\n1       [ocean, drug abuse, exotic island, east india ...\n2       [spy, based on novel, secret agent, sequel, mi...\n3       [dc comics, crime fighter, terrorist, secret i...\n4       [based on novel, mars, medallion, space travel...\n                              ...                        \n4804    [united states–mexico barrier, legs, arms, pap...\n4805                                                   []\n4806    [date, love at first sight, narration, investi...\n4807                                                   []\n4808            [obsession, camcorder, crush, dream girl]\nName: keywords, Length: 4806, dtype: object"
     },
     "execution_count": 22,
     "metadata": {},
     "output_type": "execute_result"
    }
   ],
   "source": [
    "movies['keywords'].apply(convert)"
   ],
   "metadata": {
    "collapsed": false,
    "ExecuteTime": {
     "end_time": "2023-12-01T05:31:39.747560300Z",
     "start_time": "2023-12-01T05:31:36.401031Z"
    }
   },
   "id": "c0da81425d1c8152"
  },
  {
   "cell_type": "code",
   "execution_count": 23,
   "outputs": [
    {
     "name": "stderr",
     "output_type": "stream",
     "text": [
      "C:\\Users\\user\\AppData\\Local\\Temp\\ipykernel_8024\\2498479626.py:1: SettingWithCopyWarning: \n",
      "A value is trying to be set on a copy of a slice from a DataFrame.\n",
      "Try using .loc[row_indexer,col_indexer] = value instead\n",
      "\n",
      "See the caveats in the documentation: https://pandas.pydata.org/pandas-docs/stable/user_guide/indexing.html#returning-a-view-versus-a-copy\n",
      "  movies['keywords']= movies['keywords'].apply(convert)\n"
     ]
    }
   ],
   "source": [
    "movies['keywords']= movies['keywords'].apply(convert)"
   ],
   "metadata": {
    "collapsed": false,
    "ExecuteTime": {
     "end_time": "2023-12-01T05:31:44.613816700Z",
     "start_time": "2023-12-01T05:31:41.248956300Z"
    }
   },
   "id": "efe3364684a71d3c"
  },
  {
   "cell_type": "code",
   "execution_count": 24,
   "outputs": [
    {
     "data": {
      "text/plain": "   movie_id   title                                           overview  \\\n0     19995  Avatar  In the 22nd century, a paraplegic Marine is di...   \n\n                                          genres  \\\n0  [Action, Adventure, Fantasy, Science Fiction]   \n\n                                            keywords  \\\n0  [culture clash, future, space war, space colon...   \n\n                                                cast  \\\n0  [{\"cast_id\": 242, \"character\": \"Jake Sully\", \"...   \n\n                                                crew  \n0  [{\"credit_id\": \"52fe48009251416c750aca23\", \"de...  ",
      "text/html": "<div>\n<style scoped>\n    .dataframe tbody tr th:only-of-type {\n        vertical-align: middle;\n    }\n\n    .dataframe tbody tr th {\n        vertical-align: top;\n    }\n\n    .dataframe thead th {\n        text-align: right;\n    }\n</style>\n<table border=\"1\" class=\"dataframe\">\n  <thead>\n    <tr style=\"text-align: right;\">\n      <th></th>\n      <th>movie_id</th>\n      <th>title</th>\n      <th>overview</th>\n      <th>genres</th>\n      <th>keywords</th>\n      <th>cast</th>\n      <th>crew</th>\n    </tr>\n  </thead>\n  <tbody>\n    <tr>\n      <th>0</th>\n      <td>19995</td>\n      <td>Avatar</td>\n      <td>In the 22nd century, a paraplegic Marine is di...</td>\n      <td>[Action, Adventure, Fantasy, Science Fiction]</td>\n      <td>[culture clash, future, space war, space colon...</td>\n      <td>[{\"cast_id\": 242, \"character\": \"Jake Sully\", \"...</td>\n      <td>[{\"credit_id\": \"52fe48009251416c750aca23\", \"de...</td>\n    </tr>\n  </tbody>\n</table>\n</div>"
     },
     "execution_count": 24,
     "metadata": {},
     "output_type": "execute_result"
    }
   ],
   "source": [
    "movies.head(1)"
   ],
   "metadata": {
    "collapsed": false,
    "ExecuteTime": {
     "end_time": "2023-12-01T05:31:45.952675100Z",
     "start_time": "2023-12-01T05:31:45.739708300Z"
    }
   },
   "id": "31d168f11c41d306"
  },
  {
   "cell_type": "code",
   "execution_count": 25,
   "outputs": [
    {
     "data": {
      "text/plain": "'[{\"cast_id\": 2, \"character\": \"Bruce Wayne / Batman\", \"credit_id\": \"52fe4781c3a36847f8139869\", \"gender\": 2, \"id\": 3894, \"name\": \"Christian Bale\", \"order\": 0}, {\"cast_id\": 8, \"character\": \"Alfred Pennyworth\", \"credit_id\": \"52fe4781c3a36847f8139881\", \"gender\": 2, \"id\": 3895, \"name\": \"Michael Caine\", \"order\": 1}, {\"cast_id\": 5, \"character\": \"James Gordon\", \"credit_id\": \"52fe4781c3a36847f8139875\", \"gender\": 2, \"id\": 64, \"name\": \"Gary Oldman\", \"order\": 2}, {\"cast_id\": 3, \"character\": \"Selina Kyle / Catwoman\", \"credit_id\": \"52fe4781c3a36847f813986d\", \"gender\": 1, \"id\": 1813, \"name\": \"Anne Hathaway\", \"order\": 3}, {\"cast_id\": 4, \"character\": \"Bane\", \"credit_id\": \"52fe4781c3a36847f8139871\", \"gender\": 2, \"id\": 2524, \"name\": \"Tom Hardy\", \"order\": 4}, {\"cast_id\": 15, \"character\": \"Miranda Tate\", \"credit_id\": \"52fe4781c3a36847f813988d\", \"gender\": 1, \"id\": 8293, \"name\": \"Marion Cotillard\", \"order\": 5}, {\"cast_id\": 6, \"character\": \"Blake\", \"credit_id\": \"52fe4781c3a36847f8139879\", \"gender\": 2, \"id\": 24045, \"name\": \"Joseph Gordon-Levitt\", \"order\": 6}, {\"cast_id\": 7, \"character\": \"Lucius Fox\", \"credit_id\": \"52fe4781c3a36847f813987d\", \"gender\": 2, \"id\": 192, \"name\": \"Morgan Freeman\", \"order\": 7}, {\"cast_id\": 46, \"character\": \"Dr. Jonathan Crane / Scarecrow\", \"credit_id\": \"52fe4781c3a36847f8139939\", \"gender\": 2, \"id\": 2037, \"name\": \"Cillian Murphy\", \"order\": 8}, {\"cast_id\": 9, \"character\": \"Jen\", \"credit_id\": \"52fe4781c3a36847f8139885\", \"gender\": 1, \"id\": 36594, \"name\": \"Juno Temple\", \"order\": 9}, {\"cast_id\": 47, \"character\": \"Ra\\'s Al Ghul\", \"credit_id\": \"52fe4781c3a36847f813993d\", \"gender\": 2, \"id\": 3896, \"name\": \"Liam Neeson\", \"order\": 10}, {\"cast_id\": 43, \"character\": \"Deputy Commissioner Foley\", \"credit_id\": \"52fe4781c3a36847f813992d\", \"gender\": 2, \"id\": 8654, \"name\": \"Matthew Modine\", \"order\": 11}, {\"cast_id\": 45, \"character\": \"Dr. Pavel\", \"credit_id\": \"52fe4781c3a36847f8139935\", \"gender\": 2, \"id\": 16607, \"name\": \"Alon Aboutboul\", \"order\": 12}, {\"cast_id\": 49, \"character\": \"Daggett\", \"credit_id\": \"52fe4782c3a36847f8139945\", \"gender\": 2, \"id\": 77335, \"name\": \"Ben Mendelsohn\", \"order\": 13}, {\"cast_id\": 10, \"character\": \"The Mayor\", \"credit_id\": \"52fe4781c3a36847f8139889\", \"gender\": 2, \"id\": 21316, \"name\": \"Nestor Carbonell\", \"order\": 14}, {\"cast_id\": 36, \"character\": \"Young Ra\\'s Al Ghul\", \"credit_id\": \"52fe4781c3a36847f8139909\", \"gender\": 0, \"id\": 928532, \"name\": \"Josh Pence\", \"order\": 15}, {\"cast_id\": 42, \"character\": \"Prisoner\", \"credit_id\": \"52fe4781c3a36847f8139929\", \"gender\": 0, \"id\": 71010, \"name\": \"Tom Conti\", \"order\": 16}, {\"cast_id\": 44, \"character\": \"Young Talia Al Ghul\", \"credit_id\": \"52fe4781c3a36847f8139931\", \"gender\": 1, \"id\": 125025, \"name\": \"Joey King\", \"order\": 17}, {\"cast_id\": 48, \"character\": \"Mercenary Security #1\", \"credit_id\": \"52fe4781c3a36847f8139941\", \"gender\": 2, \"id\": 211521, \"name\": \"Warren Brown\", \"order\": 18}, {\"cast_id\": 50, \"character\": \"Captain Jones\", \"credit_id\": \"52fe4782c3a36847f8139949\", \"gender\": 2, \"id\": 10582, \"name\": \"Daniel Sunjata\", \"order\": 19}, {\"cast_id\": 52, \"character\": \"Special Ops Sergeant\", \"credit_id\": \"52fe4782c3a36847f8139951\", \"gender\": 0, \"id\": 224365, \"name\": \"Sam Kennard\", \"order\": 20}, {\"cast_id\": 53, \"character\": \"Hooded Man #2\", \"credit_id\": \"53ab5495c3a3684bb900059a\", \"gender\": 0, \"id\": 1334307, \"name\": \"Aliash Tepina\", \"order\": 21}, {\"cast_id\": 54, \"character\": \"Caterer\", \"credit_id\": \"53ab59d40e0a267622000761\", \"gender\": 0, \"id\": 1334308, \"name\": \"Nick Julian\", \"order\": 22}, {\"cast_id\": 55, \"character\": \"Maid\", \"credit_id\": \"53ab5ba70e0a26761f000715\", \"gender\": 1, \"id\": 1334309, \"name\": \"Miranda Nolan\", \"order\": 23}, {\"cast_id\": 174, \"character\": \"Maid\", \"credit_id\": \"562196c8c3a3680e190096a0\", \"gender\": 0, \"id\": 1172491, \"name\": \"Claire Julien\", \"order\": 24}, {\"cast_id\": 56, \"character\": \"CIA Op\", \"credit_id\": \"53e761100e0a266f9d00176c\", \"gender\": 2, \"id\": 49735, \"name\": \"Aidan Gillen\", \"order\": 25}, {\"cast_id\": 172, \"character\": \"Stryver\", \"credit_id\": \"5621963e92514171d4009562\", \"gender\": 0, \"id\": 39659, \"name\": \"Burn Gorman\", \"order\": 26}, {\"cast_id\": 173, \"character\": \"Congressman\", \"credit_id\": \"5621969dc3a3680e0e009e97\", \"gender\": 2, \"id\": 16841, \"name\": \"Brett Cullen\", \"order\": 27}, {\"cast_id\": 175, \"character\": \"Ross\", \"credit_id\": \"56219708c3a3680e190096a9\", \"gender\": 2, \"id\": 22075, \"name\": \"Reggie Lee\", \"order\": 28}, {\"cast_id\": 176, \"character\": \"DWP Man\", \"credit_id\": \"56219739c3a3680e1d009ba6\", \"gender\": 2, \"id\": 159879, \"name\": \"Joseph Lyle Taylor\", \"order\": 29}, {\"cast_id\": 177, \"character\": \"Fr. Reilly\", \"credit_id\": \"56219752c3a3680e10009290\", \"gender\": 2, \"id\": 8191, \"name\": \"Chris Ellis\", \"order\": 30}, {\"cast_id\": 179, \"character\": \"SWAT in Dive Bar\", \"credit_id\": \"562197d3c3a3680e1d009bc0\", \"gender\": 2, \"id\": 1240417, \"name\": \"Duane Henry\", \"order\": 31}, {\"cast_id\": 180, \"character\": \"SWAT in Alley\", \"credit_id\": \"562197eb92514171c50096df\", \"gender\": 0, \"id\": 1218818, \"name\": \"James Harvey Ward\", \"order\": 32}, {\"cast_id\": 181, \"character\": \"Cop in Manhole\", \"credit_id\": \"562198019251411e1f004568\", \"gender\": 2, \"id\": 84754, \"name\": \"Gonzalo Menendez\", \"order\": 33}, {\"cast_id\": 365, \"character\": \"Sewer Thug #1\", \"credit_id\": \"5744667fc3a3681233001525\", \"gender\": 2, \"id\": 1473276, \"name\": \"Cameron Jack\", \"order\": 34}, {\"cast_id\": 182, \"character\": \"Sewer Thug #2\", \"credit_id\": \"5621987ec3a3686868003d9a\", \"gender\": 2, \"id\": 1364324, \"name\": \"Lex Daniel\", \"order\": 35}, {\"cast_id\": 183, \"character\": \"Mark\", \"credit_id\": \"562198cd92514171cd009658\", \"gender\": 2, \"id\": 1473749, \"name\": \"Tyler Dean Flores\", \"order\": 36}, {\"cast_id\": 184, \"character\": \"Doctor\", \"credit_id\": \"5621991192514171d000960d\", \"gender\": 2, \"id\": 539, \"name\": \"Thomas Lennon\", \"order\": 37}, {\"cast_id\": 185, \"character\": \"Yuppie\", \"credit_id\": \"5621997192514171d0009625\", \"gender\": 0, \"id\": 158484, \"name\": \"Trevor White\", \"order\": 38}, {\"cast_id\": 186, \"character\": \"Allen\", \"credit_id\": \"56219994c3a368240d0028d5\", \"gender\": 2, \"id\": 10689, \"name\": \"Rob Brown\", \"order\": 39}, {\"cast_id\": 187, \"character\": \"Exchange Security Chief\", \"credit_id\": \"562199b492514171d0009634\", \"gender\": 2, \"id\": 9632, \"name\": \"Fredric Lehne\", \"order\": 40}, {\"cast_id\": 188, \"character\": \"Female Security Guard\", \"credit_id\": \"562199dc92514171d000963c\", \"gender\": 0, \"id\": 1205900, \"name\": \"Courtney Munch\", \"order\": 41}, {\"cast_id\": 189, \"character\": \"Paparazzi #1\", \"credit_id\": \"56219a2ac3a368240d0028ee\", \"gender\": 2, \"id\": 1403768, \"name\": \"Chris Hill\", \"order\": 42}, {\"cast_id\": 190, \"character\": \"Paparazzi #2\", \"credit_id\": \"56219a3fc3a3680e16008b49\", \"gender\": 2, \"id\": 1465242, \"name\": \"Travis Guba\", \"order\": 43}, {\"cast_id\": 191, \"character\": \"Rich Twit\", \"credit_id\": \"56219a6cc3a3680e1900973e\", \"gender\": 2, \"id\": 141014, \"name\": \"Jay Benedict\", \"order\": 44}, {\"cast_id\": 192, \"character\": \"Officer Simon Jansen\", \"credit_id\": \"56219aadc3a3686868003e03\", \"gender\": 2, \"id\": 32363, \"name\": \"Will Estes\", \"order\": 45}, {\"cast_id\": 193, \"character\": \"Shoe Shine Man at GSE\", \"credit_id\": \"56219acc92514171c500975b\", \"gender\": 2, \"id\": 21182, \"name\": \"David Dayan Fisher\", \"order\": 46}, {\"cast_id\": 194, \"character\": \"Trader #1\", \"credit_id\": \"56219b32c3a368240d002927\", \"gender\": 2, \"id\": 83271, \"name\": \"Glen Powell\", \"order\": 47}, {\"cast_id\": 195, \"character\": \"Trader #3\", \"credit_id\": \"56219b86c3a3680e10009379\", \"gender\": 2, \"id\": 535, \"name\": \"Russ Fega\", \"order\": 48}, {\"cast_id\": 196, \"character\": \"Valet at Museum\", \"credit_id\": \"56219ba8c3a3680e10009383\", \"gender\": 2, \"id\": 1226016, \"name\": \"Andres Perez-Molina\", \"order\": 49}, {\"cast_id\": 197, \"character\": \"Veteran Cop\", \"credit_id\": \"56219bc6c3a368240d002952\", \"gender\": 2, \"id\": 15011, \"name\": \"Brent Briscoe\", \"order\": 50}, {\"cast_id\": 198, \"character\": \"Fredericks\", \"credit_id\": \"56219bec92514171d400967b\", \"gender\": 2, \"id\": 70225, \"name\": \"John Nolan\", \"order\": 51}, {\"cast_id\": 199, \"character\": \"2 Star Air Force General\", \"credit_id\": \"56219c1c9251413a740041a2\", \"gender\": 2, \"id\": 24627, \"name\": \"Oliver Cotton\", \"order\": 52}, {\"cast_id\": 200, \"character\": \"Airport Cop\", \"credit_id\": \"56219c3d92514171d400968e\", \"gender\": 0, \"id\": 142290, \"name\": \"Mark Killeen\", \"order\": 53}, {\"cast_id\": 201, \"character\": \"Analyst #1\", \"credit_id\": \"56219c6ac3a3680e1d009cb3\", \"gender\": 0, \"id\": 1377686, \"name\": \"Sarah Goldberg\", \"order\": 54}, {\"cast_id\": 202, \"character\": \"Analyst #2\", \"credit_id\": \"56219c86c3a3680e1d009cbb\", \"gender\": 2, \"id\": 550549, \"name\": \"John MacMillan\", \"order\": 55}, {\"cast_id\": 203, \"character\": \"Army Captain at Bridge\", \"credit_id\": \"56219cf9c3a3680e100093c7\", \"gender\": 2, \"id\": 21505, \"name\": \"Robert Wisdom\", \"order\": 56}, {\"cast_id\": 204, \"character\": \"Cement Truck Driver\", \"credit_id\": \"56219d18c3a3680e16008bd4\", \"gender\": 2, \"id\": 98804, \"name\": \"Ronnie Gene Blevins\", \"order\": 57}, {\"cast_id\": 205, \"character\": \"CIA Analyst\", \"credit_id\": \"56219d3d92514171d40096d2\", \"gender\": 0, \"id\": 1386824, \"name\": \"John Hollingworth\", \"order\": 58}, {\"cast_id\": 206, \"character\": \"Cop with Gordon\", \"credit_id\": \"56219d5dc3a3686868003e71\", \"gender\": 2, \"id\": 31362, \"name\": \"Ian Bohen\", \"order\": 59}, {\"cast_id\": 207, \"character\": \"Blind Prisoner\", \"credit_id\": \"56219d7ec3a3680e1d009ce9\", \"gender\": 2, \"id\": 145313, \"name\": \"Uri Gavriel\", \"order\": 60}, {\"cast_id\": 208, \"character\": \"Ex-Prisoner at River\", \"credit_id\": \"56219d9f9251417f470073a3\", \"gender\": 2, \"id\": 53252, \"name\": \"Noel Gugliemi\", \"order\": 61}, {\"cast_id\": 209, \"character\": \"Gangbanger\", \"credit_id\": \"56219dce9251417f470073b0\", \"gender\": 2, \"id\": 24202, \"name\": \"Hector Atreyu Ruiz\", \"order\": 62}, {\"cast_id\": 210, \"character\": \"Huge Inmate\", \"credit_id\": \"56219dfdc3a3680e2000a3c3\", \"gender\": 0, \"id\": 1301187, \"name\": \"Patrick Cox\", \"order\": 63}, {\"cast_id\": 211, \"character\": \"Kid with Apple\", \"credit_id\": \"56219e22c3a3680e2000a3cc\", \"gender\": 2, \"id\": 204191, \"name\": \"Aramis Knight\", \"order\": 64}, {\"cast_id\": 212, \"character\": \"Barsad\", \"credit_id\": \"56219e589251413a7400421c\", \"gender\": 2, \"id\": 40039, \"name\": \"Josh Stewart\", \"order\": 65}, {\"cast_id\": 213, \"character\": \"President\", \"credit_id\": \"56219e78c3a3680e0e00a022\", \"gender\": 2, \"id\": 21416, \"name\": \"William Devane\", \"order\": 66}, {\"cast_id\": 214, \"character\": \"Skinny Prisoner\", \"credit_id\": \"5621a54cc3a3686868003fcc\", \"gender\": 2, \"id\": 55411, \"name\": \"David Gyasi\", \"order\": 67}, {\"cast_id\": 215, \"character\": \"Special Forces #2\", \"credit_id\": \"5621a5ae9251413a74004f01\", \"gender\": 2, \"id\": 1244314, \"name\": \"Patrick Jordan\", \"order\": 68}, {\"cast_id\": 216, \"character\": \"Mercenary at City Hall\", \"credit_id\": \"5621a5f3c3a3680e1d009ef0\", \"gender\": 0, \"id\": 1286878, \"name\": \"Joshua Elijah Reese\", \"order\": 69}, {\"cast_id\": 217, \"character\": \"Uniform\", \"credit_id\": \"5621a611c3a3680e16008d93\", \"gender\": 2, \"id\": 6365, \"name\": \"Desmond Harrington\", \"order\": 70}, {\"cast_id\": 218, \"character\": \"Bomb Truck Driver\", \"credit_id\": \"5621a64ac3a3680e100095a7\", \"gender\": 2, \"id\": 1417415, \"name\": \"Mychael Bates\", \"order\": 71}, {\"cast_id\": 219, \"character\": \"Wayne\\'s Lawyer\", \"credit_id\": \"5622804dc3a3680e1d00c2ec\", \"gender\": 2, \"id\": 941, \"name\": \"Tomas Arana\", \"order\": 72}, {\"cast_id\": 220, \"character\": \"Applied Sciences Tech #1\", \"credit_id\": \"56228076c3a3680e1600ae35\", \"gender\": 0, \"id\": 1225911, \"name\": \"Peter Holden\", \"order\": 73}, {\"cast_id\": 221, \"character\": \"Applied Sciences Tech #2\", \"credit_id\": \"5622809bc3a3680e0e00c5a4\", \"gender\": 2, \"id\": 100891, \"name\": \"David Monahan\", \"order\": 74}, {\"cast_id\": 222, \"character\": \"Lawyer\\'s Clerk\", \"credit_id\": \"562280bbc3a3680e2000ca5f\", \"gender\": 1, \"id\": 20469, \"name\": \"Jillian Armenante\", \"order\": 75}, {\"cast_id\": 223, \"character\": \"Greeter at Museum\", \"credit_id\": \"562280fcc3a3680e2000ca68\", \"gender\": 1, \"id\": 105832, \"name\": \"Aja Evans\", \"order\": 76}, {\"cast_id\": 224, \"character\": \"Valet at Wayne Enterprises\", \"credit_id\": \"56228153c3a3680e1600ae64\", \"gender\": 0, \"id\": 1355615, \"name\": \"Aldous Davidson\", \"order\": 77}, {\"cast_id\": 225, \"character\": \"Warden at Blackgate\", \"credit_id\": \"562281a49251413a74006fda\", \"gender\": 2, \"id\": 51930, \"name\": \"Wade Williams\", \"order\": 78}, {\"cast_id\": 226, \"character\": \"Waiter in Florence Caf\\\\u00e9\", \"credit_id\": \"5623d3a8c3a3680e1600d8e2\", \"gender\": 0, \"id\": 95577, \"name\": \"Jake Canuso\", \"order\": 79}, {\"cast_id\": 228, \"character\": \"Janitor at GSE\", \"credit_id\": \"5623d47c92514127d4003522\", \"gender\": 0, \"id\": 1010873, \"name\": \"Massi Furlan\", \"order\": 81}, {\"cast_id\": 229, \"character\": \"Mercenary Security #4\", \"credit_id\": \"5623d4f2c3a3680e1d00f29d\", \"gender\": 2, \"id\": 26088, \"name\": \"Christopher Judge\", \"order\": 82}, {\"cast_id\": 230, \"character\": \"Board Member #2\", \"credit_id\": \"5623d5329251416b3000153a\", \"gender\": 2, \"id\": 853194, \"name\": \"Patrick Leahy\", \"order\": 83}, {\"cast_id\": 231, \"character\": \"Uniform #2\", \"credit_id\": \"5623d57192514135b00028d6\", \"gender\": 0, \"id\": 171606, \"name\": \"Todd Gearhart\", \"order\": 84}, {\"cast_id\": 232, \"character\": \"Gotham City Police Officer (uncredited)\", \"credit_id\": \"5623d5d69251417f4700becf\", \"gender\": 2, \"id\": 1406682, \"name\": \"Marc Abbink\", \"order\": 85}, {\"cast_id\": 233, \"character\": \"Young Stock Broker (uncredited)\", \"credit_id\": \"56252c5a9251413980001f01\", \"gender\": 0, \"id\": 1167718, \"name\": \"Isiah Adams\", \"order\": 86}, {\"cast_id\": 234, \"character\": \"Gotham City Police Officer (uncredited)\", \"credit_id\": \"56252cb2c3a3680e1d013497\", \"gender\": 1, \"id\": 572221, \"name\": \"Charlie Alejandro\", \"order\": 87}, {\"cast_id\": 235, \"character\": \"Former Upscaler (uncredited)\", \"credit_id\": \"56252cf9c3a3680e1d01349c\", \"gender\": 2, \"id\": 1116933, \"name\": \"Robert Arensen\", \"order\": 88}, {\"cast_id\": 236, \"character\": \"Angry Mobster / Prisoner (uncredited)\", \"credit_id\": \"56252d43c3a3680e2001483e\", \"gender\": 0, \"id\": 1524158, \"name\": \"Grant Babbitt\", \"order\": 89}, {\"cast_id\": 237, \"character\": \"Gotham Rogues Fan (uncredited)\", \"credit_id\": \"56252d6e9251413980001f2a\", \"gender\": 0, \"id\": 139188, \"name\": \"Fileena Bahris\", \"order\": 90}, {\"cast_id\": 238, \"character\": \"Mercenary (uncredited)\", \"credit_id\": \"56258b759251413980002af5\", \"gender\": 0, \"id\": 1075845, \"name\": \"Rick Bolander\", \"order\": 91}, {\"cast_id\": 239, \"character\": \"Police Officer (uncredited)\", \"credit_id\": \"56258bb192514135b000724c\", \"gender\": 0, \"id\": 1283949, \"name\": \"Kyle Patrick Brennan\", \"order\": 92}, {\"cast_id\": 240, \"character\": \"Gotham City Police Officer (uncredited)\", \"credit_id\": \"56267a109251412f15000873\", \"gender\": 0, \"id\": 1344943, \"name\": \"Scott Churchson\", \"order\": 93}, {\"cast_id\": 241, \"character\": \"Gotham Rogues Coach (uncredited)\", \"credit_id\": \"56267aeec3a3680e200186f9\", \"gender\": 0, \"id\": 1240191, \"name\": \"Bill Cowher\", \"order\": 94}, {\"cast_id\": 242, \"character\": \"Pentagon Navy Petty (uncredited)\", \"credit_id\": \"56267bbc9251412f150008ac\", \"gender\": 0, \"id\": 1359461, \"name\": \"Graham Curry\", \"order\": 95}, {\"cast_id\": 243, \"character\": \"Reporter (uncredited)\", \"credit_id\": \"5626dd3f92514137bb0006c8\", \"gender\": 1, \"id\": 1163300, \"name\": \"Stephanie Domini Ehlert\", \"order\": 96}, {\"cast_id\": 244, \"character\": \"Older Upscale Person (uncredited)\", \"credit_id\": \"5627ca69c3a3687c52000500\", \"gender\": 0, \"id\": 93752, \"name\": \"John Farrer\", \"order\": 97}, {\"cast_id\": 245, \"character\": \"Prisoner / Thug (uncredited)\", \"credit_id\": \"5627caafc3a3687c600004b3\", \"gender\": 0, \"id\": 1343309, \"name\": \"Frank Fata\", \"order\": 98}, {\"cast_id\": 246, \"character\": \"Stock Broker (uncredited)\", \"credit_id\": \"562830b7c3a3684880000421\", \"gender\": 0, \"id\": 1372419, \"name\": \"Christopher Bryan Gomez\", \"order\": 99}, {\"cast_id\": 247, \"character\": \"Thug (uncredited)\", \"credit_id\": \"562831229251414cdd000442\", \"gender\": 0, \"id\": 1502323, \"name\": \"Vito Grassi\", \"order\": 100}, {\"cast_id\": 248, \"character\": \"Stockbroker in Snipers Scoop - Stock Exchange (uncredited)\", \"credit_id\": \"5628314ec3a368487d00043e\", \"gender\": 2, \"id\": 1509064, \"name\": \"Michael Wren Gucciardo\", \"order\": 101}, {\"cast_id\": 249, \"character\": \"Prisoner (uncredited)\", \"credit_id\": \"56291c98c3a368487a0023d6\", \"gender\": 2, \"id\": 1525392, \"name\": \"Sam Harris\", \"order\": 102}, {\"cast_id\": 250, \"character\": \"Police Officer (uncredited)\", \"credit_id\": \"56291cdc9251414ccf002762\", \"gender\": 0, \"id\": 1365976, \"name\": \"Ed Heavey\", \"order\": 103}, {\"cast_id\": 251, \"character\": \"Gotham Police Officer / Fan (uncredited)\", \"credit_id\": \"56291d5cc3a368488c002830\", \"gender\": 2, \"id\": 1098036, \"name\": \"John W. Iwanonkiw\", \"order\": 104}, {\"cast_id\": 252, \"character\": \"Gordon\\'s Cop #4 (uncredited)\", \"credit_id\": \"56291dec9251414cd20026d0\", \"gender\": 0, \"id\": 1354413, \"name\": \"Cindy Jackson\", \"order\": 105}, {\"cast_id\": 253, \"character\": \"Boom Operator News Crew (uncredited)\", \"credit_id\": \"56291ecc9251414cd800251f\", \"gender\": 0, \"id\": 123875, \"name\": \"Daniel Jordano\", \"order\": 106}, {\"cast_id\": 254, \"character\": \"Gothamite (uncredited)\", \"credit_id\": \"562974c7c3a3681b5e000691\", \"gender\": 0, \"id\": 127060, \"name\": \"William Kania\", \"order\": 107}, {\"cast_id\": 255, \"character\": \"Gotham Rogues Fan (uncredited)\", \"credit_id\": \"562974f39251412853000708\", \"gender\": 0, \"id\": 1388256, \"name\": \"Tiffany Kemp\", \"order\": 108}, {\"cast_id\": 256, \"character\": \"Stock Broker (uncredited)\", \"credit_id\": \"562975e8c3a3681b4b00067b\", \"gender\": 0, \"id\": 1241239, \"name\": \"Sun Jae Kim\", \"order\": 109}, {\"cast_id\": 257, \"character\": \"Thug (uncredited)\", \"credit_id\": \"56297620c3a3681b5e0006c6\", \"gender\": 0, \"id\": 1378466, \"name\": \"Hrvoje Klecz\", \"order\": 110}, {\"cast_id\": 258, \"character\": \"Wall Street Broker (uncredited)\", \"credit_id\": \"5629768a9251412845000609\", \"gender\": 0, \"id\": 1264686, \"name\": \"Alex Kruz\", \"order\": 111}, {\"cast_id\": 259, \"character\": \"Gotham City Police Officer (uncredited)\", \"credit_id\": \"562a6fcf9251414ab7000d11\", \"gender\": 0, \"id\": 1169299, \"name\": \"Tyler La Marr\", \"order\": 112}, {\"cast_id\": 260, \"character\": \"Thug (uncredited)\", \"credit_id\": \"562a7046c3a3681b5c002691\", \"gender\": 2, \"id\": 1269611, \"name\": \"LeJon\", \"order\": 113}, {\"cast_id\": 261, \"character\": \"Gotham City Police Officer (uncredited)\", \"credit_id\": \"562a706fc3a3681b610028d9\", \"gender\": 0, \"id\": 1446471, \"name\": \"Paul Jude Letersky\", \"order\": 114}, {\"cast_id\": 262, \"character\": \"Prisoner (uncredited)\", \"credit_id\": \"562a70e5c3a3681b520027e1\", \"gender\": 0, \"id\": 1188950, \"name\": \"Joe Lipari\", \"order\": 115}, {\"cast_id\": 263, \"character\": \"Tourist (uncredited)\", \"credit_id\": \"562a7123c3a3681b5900267c\", \"gender\": 0, \"id\": 1383091, \"name\": \"Silvia Lombardo\", \"order\": 116}, {\"cast_id\": 264, \"character\": \"Gotham Rogues Fan (uncredited)\", \"credit_id\": \"562ad1bd9251414006001a31\", \"gender\": 0, \"id\": 1480128, \"name\": \"Jorge Mardel\", \"order\": 117}, {\"cast_id\": 265, \"character\": \"Gotham Rogues Fan (uncredited)\", \"credit_id\": \"562ad293925141284a0032ba\", \"gender\": 0, \"id\": 1174970, \"name\": \"Cale McConnell\", \"order\": 118}, {\"cast_id\": 266, \"character\": \"Gotham City Police Officer (uncredited)\", \"credit_id\": \"562ad2c6c3a3681b4d003b12\", \"gender\": 0, \"id\": 127063, \"name\": \"David Dale McCue\", \"order\": 119}, {\"cast_id\": 267, \"character\": \"Gotham Rogues Fan (uncredited)\", \"credit_id\": \"562ad2f49251412857003295\", \"gender\": 1, \"id\": 1480130, \"name\": \"Tiffany Sander McKenzie\", \"order\": 120}, {\"cast_id\": 268, \"character\": \"Angry Mobster (uncredited)\", \"credit_id\": \"562ad32f92514128530033a7\", \"gender\": 0, \"id\": 1505308, \"name\": \"Allen Merritt\", \"order\": 121}, {\"cast_id\": 269, \"character\": \"Wayne Enterprises Security (uncredited)\", \"credit_id\": \"562ad36ac3a3681b4d003b44\", \"gender\": 0, \"id\": 1509148, \"name\": \"Olan Montgomery\", \"order\": 122}, {\"cast_id\": 270, \"character\": \"Mercenary (uncredited)\", \"credit_id\": \"562ad3cdc3a3681b4d003b5b\", \"gender\": 0, \"id\": 122339, \"name\": \"Alex Moore\", \"order\": 123}, {\"cast_id\": 271, \"character\": \"Gotham City Police Officer (uncredited)\", \"credit_id\": \"562bb8699251412853005938\", \"gender\": 0, \"id\": 93778, \"name\": \"Shane Nolan\", \"order\": 124}, {\"cast_id\": 272, \"character\": \"Prisoner / Thug (uncredited)\", \"credit_id\": \"562bb8a1c3a3681b54005616\", \"gender\": 0, \"id\": 1205749, \"name\": \"Jackson Nunn\", \"order\": 125}, {\"cast_id\": 273, \"character\": \"Gotham City News Cameraman (uncredited)\", \"credit_id\": \"562bb8e1c3a3681b520051ef\", \"gender\": 0, \"id\": 1480150, \"name\": \"Joseph O\\'Brien\", \"order\": 126}, {\"cast_id\": 274, \"character\": \"Prison Guard (uncredited)\", \"credit_id\": \"562d1d8d9251414ad80066d8\", \"gender\": 2, \"id\": 20582, \"name\": \"Michael Papajohn\", \"order\": 127}, {\"cast_id\": 275, \"character\": \"Prisoner / Mob (uncredited)\", \"credit_id\": \"562d1dafc3a3681b4b007bf8\", \"gender\": 0, \"id\": 1298014, \"name\": \"Salomon Passariello\", \"order\": 128}, {\"cast_id\": 276, \"character\": \"Gotham Stock Trader (uncredited)\", \"credit_id\": \"562d1f0592514128530088c1\", \"gender\": 0, \"id\": 1429650, \"name\": \"Kyle David Pierce\", \"order\": 129}, {\"cast_id\": 277, \"character\": \"Gotham Rogues Player (uncredited)\", \"credit_id\": \"562d1f3c9251412845007b7b\", \"gender\": 0, \"id\": 1349600, \"name\": \"Troy Polamalu\", \"order\": 130}, {\"cast_id\": 278, \"character\": \"Gotham Police Officer (uncredited)\", \"credit_id\": \"562d1fc89251412857007fd5\", \"gender\": 0, \"id\": 1066138, \"name\": \"Michael Power\", \"order\": 131}, {\"cast_id\": 279, \"character\": \"Thug (uncredited)\", \"credit_id\": \"562e68b892514140060097f1\", \"gender\": 0, \"id\": 565508, \"name\": \"James Rawlings\", \"order\": 132}, {\"cast_id\": 280, \"character\": \"Doris in Black (uncredited)\", \"credit_id\": \"562e696e9251410a22006da5\", \"gender\": 0, \"id\": 1513716, \"name\": \"Kirsten Roeters\", \"order\": 133}, {\"cast_id\": 281, \"character\": \"Gotham Rogues Player (uncredited)\", \"credit_id\": \"562e69a79251414006009814\", \"gender\": 0, \"id\": 1215314, \"name\": \"Ben Roethlisberger\", \"order\": 134}, {\"cast_id\": 282, \"character\": \"Gotham Police Officer (uncredited)\", \"credit_id\": \"562e6a059251410a22006dba\", \"gender\": 2, \"id\": 1452954, \"name\": \"Mark Roman\", \"order\": 135}, {\"cast_id\": 283, \"character\": \"Thug (uncredited)\", \"credit_id\": \"562ed4919251410a22007aab\", \"gender\": 2, \"id\": 1451618, \"name\": \"Anthony J. Sacco\", \"order\": 136}, {\"cast_id\": 284, \"character\": \"Angry Thug (uncredited)\", \"credit_id\": \"562ed4c7c3a3681b6100c5aa\", \"gender\": 0, \"id\": 1085730, \"name\": \"Eric Salazar\", \"order\": 137}, {\"cast_id\": 285, \"character\": \"Hot Football Fan (uncredited)\", \"credit_id\": \"562ed503c3a3681b5c00bed4\", \"gender\": 0, \"id\": 557202, \"name\": \"Emily Schooley\", \"order\": 138}, {\"cast_id\": 286, \"character\": \"Gotham Rogues Owner (uncredited)\", \"credit_id\": \"562fbf75c3a3681b5c00dc2a\", \"gender\": 0, \"id\": 54211, \"name\": \"Thomas Tull\", \"order\": 139}, {\"cast_id\": 287, \"character\": \"Thug (uncredited)\", \"credit_id\": \"562fbfd3c3a3681b6100e4f0\", \"gender\": 2, \"id\": 1480223, \"name\": \"Chris Vaina\", \"order\": 140}, {\"cast_id\": 288, \"character\": \"Prisoner (voice) (uncredited)\", \"credit_id\": \"562fbff69251414ab700beee\", \"gender\": 0, \"id\": 102516, \"name\": \"Vincent van Ommen\", \"order\": 141}, {\"cast_id\": 289, \"character\": \"Gotham City Press (uncredited)\", \"credit_id\": \"562fc0609251414ab700bf02\", \"gender\": 0, \"id\": 1205751, \"name\": \"Michelle Vezzani\", \"order\": 142}, {\"cast_id\": 290, \"character\": \"Gotham Rogues Fan (uncredited)\", \"credit_id\": \"562fc0af925141285700d780\", \"gender\": 0, \"id\": 1205623, \"name\": \"Barbara Vincent\", \"order\": 143}, {\"cast_id\": 291, \"character\": \"Gotham City Police Officer (uncredited)\", \"credit_id\": \"5630244bc3a3681b5200e663\", \"gender\": 0, \"id\": 1521872, \"name\": \"Justin Michael Woods\", \"order\": 144}, {\"cast_id\": 292, \"character\": \"Mercenary Soldier (uncredited)\", \"credit_id\": \"5630248e925141284c00e8af\", \"gender\": 0, \"id\": 306870, \"name\": \"Jason Yee\", \"order\": 145}, {\"cast_id\": 293, \"character\": \"Gotham Citizen (uncredited)\", \"credit_id\": \"563024f6c3a3681b5c00e746\", \"gender\": 1, \"id\": 1205141, \"name\": \"Maria Zambrana\", \"order\": 146}, {\"cast_id\": 294, \"character\": \"Gotham City Police Officer (uncredited)\", \"credit_id\": \"56302558925141284c00e8c9\", \"gender\": 0, \"id\": 1343746, \"name\": \"John Zion\", \"order\": 147}, {\"cast_id\": 295, \"character\": \"Thug (uncredited)\", \"credit_id\": \"56302586c3a3681b4d0101a4\", \"gender\": 2, \"id\": 1454322, \"name\": \"Alex Ziwak\", \"order\": 148}, {\"cast_id\": 312, \"character\": \"Gotham City Police Officer (uncredited)\", \"credit_id\": \"567b4b6ac3a3684bcc001325\", \"gender\": 2, \"id\": 1553053, \"name\": \"Tommy Bayiokos\", \"order\": 149}, {\"cast_id\": 313, \"character\": \"Football Fan (uncredited)\", \"credit_id\": \"567c3783c3a36860e90013c3\", \"gender\": 0, \"id\": 1553307, \"name\": \"Matthew Gooley\", \"order\": 150}, {\"cast_id\": 314, \"character\": \"Cop (uncredited)\", \"credit_id\": \"567c9d3d9251417ddd0050fc\", \"gender\": 0, \"id\": 1553377, \"name\": \"Jeff Moffitt\", \"order\": 151}, {\"cast_id\": 350, \"character\": \"Football Fan (uncredited)\", \"credit_id\": \"56ba2843c3a3687c9e00008d\", \"gender\": 0, \"id\": 1574936, \"name\": \"Mark Falvo\", \"order\": 152}, {\"cast_id\": 352, \"character\": \"Thug (uncredited)\", \"credit_id\": \"56be271e9251417344004195\", \"gender\": 0, \"id\": 1576421, \"name\": \"Diogo Hausen\", \"order\": 153}, {\"cast_id\": 355, \"character\": \"Prisoner (uncredited)\", \"credit_id\": \"56c8aca1925141172f00382b\", \"gender\": 2, \"id\": 1580574, \"name\": \"Gary Sievers\", \"order\": 154}, {\"cast_id\": 356, \"character\": \"Mercenary (uncredited)\", \"credit_id\": \"56d0fb3d925141799e004ac6\", \"gender\": 0, \"id\": 1583389, \"name\": \"Orion McCabe\", \"order\": 155}, {\"cast_id\": 368, \"character\": \"Court Room Thug (uncredited)\", \"credit_id\": \"575af48cc3a368540300009a\", \"gender\": 2, \"id\": 1633514, \"name\": \"London May\", \"order\": 156}, {\"cast_id\": 383, \"character\": \"Gothamite (uncredited)\", \"credit_id\": \"57c84ca89251415a13000102\", \"gender\": 2, \"id\": 1673036, \"name\": \"James Quinn\", \"order\": 157}, {\"cast_id\": 385, \"character\": \"Thug #2 in Basement\", \"credit_id\": \"59309c45c3a3686a70000458\", \"gender\": 2, \"id\": 1536670, \"name\": \"Daniel Newman\", \"order\": 158}]'"
     },
     "execution_count": 25,
     "metadata": {},
     "output_type": "execute_result"
    }
   ],
   "source": [
    "movies['cast'][3]"
   ],
   "metadata": {
    "collapsed": false,
    "ExecuteTime": {
     "end_time": "2023-12-01T05:31:47.839484800Z",
     "start_time": "2023-12-01T05:31:47.643774Z"
    }
   },
   "id": "fa2bd9e4ca0d4962"
  },
  {
   "cell_type": "code",
   "execution_count": 26,
   "outputs": [],
   "source": [
    "def convert5(obj):\n",
    "    L = []\n",
    "    counter = 0\n",
    "    for i in ast.literal_eval(obj):\n",
    "        if counter !=5:\n",
    "            L.append(i[\"name\"])\n",
    "            counter = counter + 1\n",
    "        else:\n",
    "            break\n",
    "    return L"
   ],
   "metadata": {
    "collapsed": false,
    "ExecuteTime": {
     "end_time": "2023-12-01T05:31:50.263787800Z",
     "start_time": "2023-12-01T05:31:50.016424100Z"
    }
   },
   "id": "f2cf448e4b076bb7"
  },
  {
   "cell_type": "code",
   "execution_count": 27,
   "outputs": [
    {
     "data": {
      "text/plain": "0       [Sam Worthington, Zoe Saldana, Sigourney Weave...\n1       [Johnny Depp, Orlando Bloom, Keira Knightley, ...\n2       [Daniel Craig, Christoph Waltz, Léa Seydoux, R...\n3       [Christian Bale, Michael Caine, Gary Oldman, A...\n4       [Taylor Kitsch, Lynn Collins, Samantha Morton,...\n                              ...                        \n4804    [Carlos Gallardo, Jaime de Hoyos, Peter Marqua...\n4805    [Edward Burns, Kerry Bishé, Marsha Dietlein, C...\n4806    [Eric Mabius, Kristin Booth, Crystal Lowe, Geo...\n4807    [Daniel Henney, Eliza Coupe, Bill Paxton, Alan...\n4808    [Drew Barrymore, Brian Herzlinger, Corey Feldm...\nName: cast, Length: 4806, dtype: object"
     },
     "execution_count": 27,
     "metadata": {},
     "output_type": "execute_result"
    }
   ],
   "source": [
    "movies['cast'].apply(convert5)"
   ],
   "metadata": {
    "collapsed": false,
    "ExecuteTime": {
     "end_time": "2023-12-01T05:32:08.836137600Z",
     "start_time": "2023-12-01T05:31:51.900057200Z"
    }
   },
   "id": "9277ee78b292e0f0"
  },
  {
   "cell_type": "code",
   "execution_count": 28,
   "outputs": [
    {
     "name": "stderr",
     "output_type": "stream",
     "text": [
      "C:\\Users\\user\\AppData\\Local\\Temp\\ipykernel_8024\\2523354665.py:1: SettingWithCopyWarning: \n",
      "A value is trying to be set on a copy of a slice from a DataFrame.\n",
      "Try using .loc[row_indexer,col_indexer] = value instead\n",
      "\n",
      "See the caveats in the documentation: https://pandas.pydata.org/pandas-docs/stable/user_guide/indexing.html#returning-a-view-versus-a-copy\n",
      "  movies['cast']=movies['cast'].apply(convert5)\n"
     ]
    }
   ],
   "source": [
    "movies['cast']=movies['cast'].apply(convert5)"
   ],
   "metadata": {
    "collapsed": false,
    "ExecuteTime": {
     "end_time": "2023-12-01T05:32:28.294492800Z",
     "start_time": "2023-12-01T05:32:10.531763900Z"
    }
   },
   "id": "e972133646c8bb66"
  },
  {
   "cell_type": "code",
   "execution_count": 29,
   "outputs": [
    {
     "data": {
      "text/plain": "   movie_id   title                                           overview  \\\n0     19995  Avatar  In the 22nd century, a paraplegic Marine is di...   \n\n                                          genres  \\\n0  [Action, Adventure, Fantasy, Science Fiction]   \n\n                                            keywords  \\\n0  [culture clash, future, space war, space colon...   \n\n                                                cast  \\\n0  [Sam Worthington, Zoe Saldana, Sigourney Weave...   \n\n                                                crew  \n0  [{\"credit_id\": \"52fe48009251416c750aca23\", \"de...  ",
      "text/html": "<div>\n<style scoped>\n    .dataframe tbody tr th:only-of-type {\n        vertical-align: middle;\n    }\n\n    .dataframe tbody tr th {\n        vertical-align: top;\n    }\n\n    .dataframe thead th {\n        text-align: right;\n    }\n</style>\n<table border=\"1\" class=\"dataframe\">\n  <thead>\n    <tr style=\"text-align: right;\">\n      <th></th>\n      <th>movie_id</th>\n      <th>title</th>\n      <th>overview</th>\n      <th>genres</th>\n      <th>keywords</th>\n      <th>cast</th>\n      <th>crew</th>\n    </tr>\n  </thead>\n  <tbody>\n    <tr>\n      <th>0</th>\n      <td>19995</td>\n      <td>Avatar</td>\n      <td>In the 22nd century, a paraplegic Marine is di...</td>\n      <td>[Action, Adventure, Fantasy, Science Fiction]</td>\n      <td>[culture clash, future, space war, space colon...</td>\n      <td>[Sam Worthington, Zoe Saldana, Sigourney Weave...</td>\n      <td>[{\"credit_id\": \"52fe48009251416c750aca23\", \"de...</td>\n    </tr>\n  </tbody>\n</table>\n</div>"
     },
     "execution_count": 29,
     "metadata": {},
     "output_type": "execute_result"
    }
   ],
   "source": [
    "movies.head(1)"
   ],
   "metadata": {
    "collapsed": false,
    "ExecuteTime": {
     "end_time": "2023-12-01T05:32:29.649675200Z",
     "start_time": "2023-12-01T05:32:29.437578200Z"
    }
   },
   "id": "1834fc9316284ec7"
  },
  {
   "cell_type": "code",
   "execution_count": 30,
   "outputs": [
    {
     "data": {
      "text/plain": "'[{\"credit_id\": \"55d5f7d4c3a3683e7e0016eb\", \"department\": \"Sound\", \"gender\": 2, \"id\": 531, \"job\": \"Original Music Composer\", \"name\": \"Danny Elfman\"}, {\"credit_id\": \"55f7d48892514103b60074ad\", \"department\": \"Sound\", \"gender\": 0, \"id\": 900, \"job\": \"Supervising Sound Editor\", \"name\": \"Christopher Boyes\"}, {\"credit_id\": \"55f7d30d9251416d96004fd1\", \"department\": \"Sound\", \"gender\": 0, \"id\": 900, \"job\": \"Sound Re-Recording Mixer\", \"name\": \"Christopher Boyes\"}, {\"credit_id\": \"550b070ec3a3684874001c9a\", \"department\": \"Production\", \"gender\": 1, \"id\": 7232, \"job\": \"Casting\", \"name\": \"Sarah Finn\"}, {\"credit_id\": \"55d5f7e2c3a3687b990044bd\", \"department\": \"Sound\", \"gender\": 2, \"id\": 6041, \"job\": \"Original Music Composer\", \"name\": \"Brian Tyler\"}, {\"credit_id\": \"52fe4a449251416c750e3451\", \"department\": \"Production\", \"gender\": 2, \"id\": 7624, \"job\": \"Executive Producer\", \"name\": \"Stan Lee\"}, {\"credit_id\": \"537d37d00e0a2624c700005b\", \"department\": \"Writing\", \"gender\": 2, \"id\": 7624, \"job\": \"Characters\", \"name\": \"Stan Lee\"}, {\"credit_id\": \"52fe4a449251416c750e3445\", \"department\": \"Production\", \"gender\": 2, \"id\": 10850, \"job\": \"Producer\", \"name\": \"Kevin Feige\"}, {\"credit_id\": \"55f7cfeb925141504d00119c\", \"department\": \"Art\", \"gender\": 2, \"id\": 8410, \"job\": \"Set Decoration\", \"name\": \"Richard Roberts\"}, {\"credit_id\": \"55d5f7c092514102c80047de\", \"department\": \"Production\", \"gender\": 1, \"id\": 8703, \"job\": \"Executive Producer\", \"name\": \"Patricia Whitcher\"}, {\"credit_id\": \"52fe4a449251416c750e3439\", \"department\": \"Directing\", \"gender\": 2, \"id\": 12891, \"job\": \"Director\", \"name\": \"Joss Whedon\"}, {\"credit_id\": \"52fe4a449251416c750e343f\", \"department\": \"Writing\", \"gender\": 2, \"id\": 12891, \"job\": \"Writer\", \"name\": \"Joss Whedon\"}, {\"credit_id\": \"55f7d01b92514103b600742d\", \"department\": \"Costume & Make-Up\", \"gender\": 1, \"id\": 13009, \"job\": \"Costume Design\", \"name\": \"Alexandra Byrne\"}, {\"credit_id\": \"550b06d5c3a3681db200171b\", \"department\": \"Editing\", \"gender\": 2, \"id\": 35176, \"job\": \"Editor\", \"name\": \"Jeffrey Ford\"}, {\"credit_id\": \"54cdf1cdc3a3681c9c0022ab\", \"department\": \"Camera\", \"gender\": 2, \"id\": 22161, \"job\": \"Director of Photography\", \"name\": \"Ben Davis\"}, {\"credit_id\": \"537d37c40e0a2624c7000057\", \"department\": \"Writing\", \"gender\": 2, \"id\": 18866, \"job\": \"Characters\", \"name\": \"Jack Kirby\"}, {\"credit_id\": \"540679d20e0a263724000611\", \"department\": \"Production\", \"gender\": 2, \"id\": 15277, \"job\": \"Executive Producer\", \"name\": \"Jon Favreau\"}, {\"credit_id\": \"55d5f81692514102d5004cf9\", \"department\": \"Art\", \"gender\": 2, \"id\": 32349, \"job\": \"Production Design\", \"name\": \"Charles Wood\"}, {\"credit_id\": \"540679c20e0a26372a0005cf\", \"department\": \"Production\", \"gender\": 2, \"id\": 57027, \"job\": \"Executive Producer\", \"name\": \"Louis D\\'Esposito\"}, {\"credit_id\": \"540679e20e0a2637300005dd\", \"department\": \"Production\", \"gender\": 2, \"id\": 113672, \"job\": \"Executive Producer\", \"name\": \"Alan Fine\"}, {\"credit_id\": \"55d5f79592514102cf004c33\", \"department\": \"Production\", \"gender\": 0, \"id\": 113674, \"job\": \"Executive Producer\", \"name\": \"Victoria Alonso\"}, {\"credit_id\": \"52fe4a449251416c750e344b\", \"department\": \"Production\", \"gender\": 0, \"id\": 113675, \"job\": \"Executive Producer\", \"name\": \"Jeremy Latcham\"}, {\"credit_id\": \"55f7cf9ac3a3686d2700befb\", \"department\": \"Art\", \"gender\": 2, \"id\": 983309, \"job\": \"Art Direction\", \"name\": \"Mike Stallion\"}, {\"credit_id\": \"550b0725c3a3684872001cde\", \"department\": \"Production\", \"gender\": 0, \"id\": 1018073, \"job\": \"Casting\", \"name\": \"Reg Poerscout-Edgerton\"}, {\"credit_id\": \"550b06e09251414691001a26\", \"department\": \"Editing\", \"gender\": 0, \"id\": 1018965, \"job\": \"Editor\", \"name\": \"Lisa Lassek\"}, {\"credit_id\": \"5751e5f9c3a36853c1000522\", \"department\": \"Production\", \"gender\": 2, \"id\": 1051971, \"job\": \"Line Producer\", \"name\": \"Nicholas Simon\"}, {\"credit_id\": \"570bc73b9251413c8200002c\", \"department\": \"Art\", \"gender\": 0, \"id\": 1104780, \"job\": \"Supervising Art Director\", \"name\": \"Ray Chan\"}, {\"credit_id\": \"55d5f75892514102d2004bd7\", \"department\": \"Production\", \"gender\": 2, \"id\": 1117747, \"job\": \"Co-Producer\", \"name\": \"Mitchell Bell\"}, {\"credit_id\": \"55f7d9879251416f8700171f\", \"department\": \"Camera\", \"gender\": 0, \"id\": 1149583, \"job\": \"Steadicam Operator\", \"name\": \"BJ McDonnell\"}, {\"credit_id\": \"55f7d2bac3a3686d0b00d61d\", \"department\": \"Sound\", \"gender\": 0, \"id\": 1235786, \"job\": \"Sound Designer\", \"name\": \"David Acord\"}, {\"credit_id\": \"55f7d0a19251410f3e00223c\", \"department\": \"Costume & Make-Up\", \"gender\": 0, \"id\": 1322147, \"job\": \"Costume Supervisor\", \"name\": \"Dan Grace\"}, {\"credit_id\": \"55f7cf1bc3a3680a0d00d3bb\", \"department\": \"Art\", \"gender\": 0, \"id\": 1326451, \"job\": \"Art Direction\", \"name\": \"Thomas Brown\"}, {\"credit_id\": \"55f7cf4c92514103b6007411\", \"department\": \"Art\", \"gender\": 0, \"id\": 1326458, \"job\": \"Art Direction\", \"name\": \"Jordan Crockett\"}, {\"credit_id\": \"55f7cfb69251410f3e002219\", \"department\": \"Art\", \"gender\": 0, \"id\": 1326460, \"job\": \"Art Direction\", \"name\": \"Mark Swain\"}, {\"credit_id\": \"55f7d33cc3a3686d2700bf6c\", \"department\": \"Sound\", \"gender\": 0, \"id\": 1327030, \"job\": \"Sound Re-Recording Mixer\", \"name\": \"Lora Hirschberg\"}, {\"credit_id\": \"55f7cf86c3a3686d0b00d5b8\", \"department\": \"Art\", \"gender\": 0, \"id\": 1334420, \"job\": \"Art Direction\", \"name\": \"Phil Sims\"}, {\"credit_id\": \"55f7cfd69251416d96004f74\", \"department\": \"Art\", \"gender\": 0, \"id\": 1338477, \"job\": \"Set Decoration\", \"name\": \"Sheona Mitchley\"}, {\"credit_id\": \"55f7d37dc3a3680a0d00d45d\", \"department\": \"Sound\", \"gender\": 0, \"id\": 1339446, \"job\": \"Supervising Sound Editor\", \"name\": \"Frank E. Eulner\"}, {\"credit_id\": \"55d5f77d92514102cf004c2e\", \"department\": \"Production\", \"gender\": 0, \"id\": 1351240, \"job\": \"Associate Producer\", \"name\": \"Daniel S. Kaminsky\"}, {\"credit_id\": \"55f7d255c3a3686d0300cc5f\", \"department\": \"Editing\", \"gender\": 0, \"id\": 1376901, \"job\": \"Dialogue Editor\", \"name\": \"Marshall Winn\"}, {\"credit_id\": \"55f7d9ccc3a3686d2700c011\", \"department\": \"Camera\", \"gender\": 0, \"id\": 1380002, \"job\": \"Still Photographer\", \"name\": \"Jay Maidment\"}, {\"credit_id\": \"55f7cf609251416d96004f65\", \"department\": \"Art\", \"gender\": 0, \"id\": 1388855, \"job\": \"Art Direction\", \"name\": \"Matthew Robinson\"}, {\"credit_id\": \"55f7d2ddc3a3685c9c001603\", \"department\": \"Sound\", \"gender\": 0, \"id\": 1388865, \"job\": \"Sound Effects Editor\", \"name\": \"David Chrastka\"}, {\"credit_id\": \"55f7d836c3a3686d1800b8e0\", \"department\": \"Crew\", \"gender\": 0, \"id\": 1388894, \"job\": \"Second Unit Cinematographer\", \"name\": \"John Gamble\"}, {\"credit_id\": \"55f7d9729251416d960050a6\", \"department\": \"Camera\", \"gender\": 2, \"id\": 1388897, \"job\": \"Steadicam Operator\", \"name\": \"Julian Morson\"}, {\"credit_id\": \"55f7d8c49251415852003917\", \"department\": \"Camera\", \"gender\": 0, \"id\": 1388898, \"job\": \"Camera Operator\", \"name\": \"Sam Renton\"}, {\"credit_id\": \"55f7d86e925141585200390d\", \"department\": \"Camera\", \"gender\": 0, \"id\": 1392246, \"job\": \"Camera Operator\", \"name\": \"Clive Jackson\"}, {\"credit_id\": \"574b3c42c3a368414100027f\", \"department\": \"Crew\", \"gender\": 2, \"id\": 1394331, \"job\": \"Stunts\", \"name\": \"Neil Fingleton\"}, {\"credit_id\": \"55f7d91e9251410f3e002347\", \"department\": \"Camera\", \"gender\": 0, \"id\": 1400092, \"job\": \"Helicopter Camera\", \"name\": \"Jeremy Braben\"}, {\"credit_id\": \"55f7d9e2c3a3686d0b00d70e\", \"department\": \"Camera\", \"gender\": 0, \"id\": 1403641, \"job\": \"Underwater Camera\", \"name\": \"Mike Valentine\"}, {\"credit_id\": \"553c2b169251413f5a006854\", \"department\": \"Crew\", \"gender\": 2, \"id\": 1412756, \"job\": \"Compositors\", \"name\": \"Chris O\\'Connell\"}, {\"credit_id\": \"55f7d56fc3a3685c9c001650\", \"department\": \"Visual Effects\", \"gender\": 0, \"id\": 1414189, \"job\": \"Animation Supervisor\", \"name\": \"Marc Chu\"}, {\"credit_id\": \"55f7d5afc3a3686d0300ccca\", \"department\": \"Visual Effects\", \"gender\": 0, \"id\": 1417983, \"job\": \"Animation Supervisor\", \"name\": \"Nadav Ehrlich\"}, {\"credit_id\": \"55f7d81b9251416f87001701\", \"department\": \"Camera\", \"gender\": 0, \"id\": 1424630, \"job\": \"Camera Operator\", \"name\": \"Mannie Ferreira\"}, {\"credit_id\": \"55f7d3629251415852003869\", \"department\": \"Sound\", \"gender\": 0, \"id\": 1425978, \"job\": \"Sound Re-Recording Mixer\", \"name\": \"Gary Summers\"}, {\"credit_id\": \"55f7d88792514103b600752b\", \"department\": \"Crew\", \"gender\": 0, \"id\": 1428837, \"job\": \"Second Unit Cinematographer\", \"name\": \"John Mahaffie\"}, {\"credit_id\": \"55f7d8ad92514175f8006a1e\", \"department\": \"Camera\", \"gender\": 0, \"id\": 1428916, \"job\": \"Camera Operator\", \"name\": \"Mark Moriarty\"}, {\"credit_id\": \"55f7d8dcc3a3686d1800b8f6\", \"department\": \"Camera\", \"gender\": 0, \"id\": 1428917, \"job\": \"Camera Operator\", \"name\": \"Stefan Stankowski\"}, {\"credit_id\": \"55f7d5c9c3a3686d0300cccf\", \"department\": \"Visual Effects\", \"gender\": 0, \"id\": 1439726, \"job\": \"Animation Supervisor\", \"name\": \"Stephen Enticott\"}, {\"credit_id\": \"5518cca3c3a36862ef0062f3\", \"department\": \"Writing\", \"gender\": 0, \"id\": 1447326, \"job\": \"Storyboard\", \"name\": \"Jane Wu\"}, {\"credit_id\": \"5534093ac3a36848ca004ba8\", \"department\": \"Crew\", \"gender\": 0, \"id\": 1456696, \"job\": \"Compositors\", \"name\": \"Brian N. Bentley\"}, {\"credit_id\": \"55345dd3c3a368523e0028c1\", \"department\": \"Visual Effects\", \"gender\": 0, \"id\": 1456835, \"job\": \"Animation\", \"name\": \"Anthony Rizzo\"}, {\"credit_id\": \"553745c2c3a3681785004fe2\", \"department\": \"Visual Effects\", \"gender\": 0, \"id\": 1457635, \"job\": \"Visual Effects\", \"name\": \"Leonard F.W. Green\"}, {\"credit_id\": \"55f7d22fc3a3686d1800b842\", \"department\": \"Sound\", \"gender\": 0, \"id\": 1458578, \"job\": \"ADR & Dubbing\", \"name\": \"Katy Wood\"}, {\"credit_id\": \"5751e5b0c3a36853b3000533\", \"department\": \"Production\", \"gender\": 2, \"id\": 1477203, \"job\": \"Co-Producer\", \"name\": \"Luca Marco Paracels\"}, {\"credit_id\": \"55f7d94e92514103b600753b\", \"department\": \"Camera\", \"gender\": 2, \"id\": 1494209, \"job\": \"Helicopter Camera\", \"name\": \"Richard Roles\"}, {\"credit_id\": \"55f7cf74925141504d001186\", \"department\": \"Art\", \"gender\": 0, \"id\": 1510429, \"job\": \"Art Direction\", \"name\": \"Domenico Sica\"}, {\"credit_id\": \"55f7d001c3a3680a0d00d3db\", \"department\": \"Art\", \"gender\": 0, \"id\": 1510430, \"job\": \"Set Decoration\", \"name\": \"Chris \\'Flimsy\\' Howes\"}, {\"credit_id\": \"55f7d0bdc3a3686d1800b81a\", \"department\": \"Costume & Make-Up\", \"gender\": 0, \"id\": 1510431, \"job\": \"Costume Supervisor\", \"name\": \"Stefano De Nardis\"}, {\"credit_id\": \"55f7d4ffc3a3686d0300ccb4\", \"department\": \"Crew\", \"gender\": 0, \"id\": 1510438, \"job\": \"Special Effects Coordinator\", \"name\": \"Ben Vokes\"}, {\"credit_id\": \"55f7d85bc3a3686d2700bfe5\", \"department\": \"Camera\", \"gender\": 0, \"id\": 1510439, \"job\": \"Camera Operator\", \"name\": \"Ki S. Hwang\"}, {\"credit_id\": \"55f7d8f4c3a3686d2700bff5\", \"department\": \"Camera\", \"gender\": 0, \"id\": 1510440, \"job\": \"Camera Operator\", \"name\": \"Derek Walker\"}, {\"credit_id\": \"55f7d9b9c3a3680a0d00d53b\", \"department\": \"Camera\", \"gender\": 0, \"id\": 1510441, \"job\": \"Still Photographer\", \"name\": \"Jae-Hyeok Lee\"}, {\"credit_id\": \"59214ef2925141482f054bc2\", \"department\": \"Production\", \"gender\": 0, \"id\": 1512798, \"job\": \"Associate Producer\", \"name\": \"Jamie Christopher\"}]'"
     },
     "execution_count": 30,
     "metadata": {},
     "output_type": "execute_result"
    }
   ],
   "source": [
    "movies['crew'][7]"
   ],
   "metadata": {
    "collapsed": false,
    "ExecuteTime": {
     "end_time": "2023-12-01T05:32:31.434745700Z",
     "start_time": "2023-12-01T05:32:31.251737400Z"
    }
   },
   "id": "5925f15b86ddb600"
  },
  {
   "cell_type": "code",
   "execution_count": 31,
   "outputs": [],
   "source": [
    "def fetch_director(obj):\n",
    "    L = []\n",
    "    for i in ast.literal_eval(obj):\n",
    "        if i['job']==\"Director\":\n",
    "            L.append(i[\"name\"])\n",
    "            break\n",
    "            \n",
    "    return L"
   ],
   "metadata": {
    "collapsed": false,
    "ExecuteTime": {
     "end_time": "2023-12-01T05:32:33.055036400Z",
     "start_time": "2023-12-01T05:32:32.909320400Z"
    }
   },
   "id": "f46fef98d5df4d91"
  },
  {
   "cell_type": "code",
   "execution_count": 32,
   "outputs": [
    {
     "data": {
      "text/plain": "0           [James Cameron]\n1          [Gore Verbinski]\n2              [Sam Mendes]\n3       [Christopher Nolan]\n4          [Andrew Stanton]\n               ...         \n4804     [Robert Rodriguez]\n4805         [Edward Burns]\n4806          [Scott Smith]\n4807          [Daniel Hsia]\n4808     [Brian Herzlinger]\nName: crew, Length: 4806, dtype: object"
     },
     "execution_count": 32,
     "metadata": {},
     "output_type": "execute_result"
    }
   ],
   "source": [
    "movies['crew'].apply(fetch_director)"
   ],
   "metadata": {
    "collapsed": false,
    "ExecuteTime": {
     "end_time": "2023-12-01T05:32:54.215806700Z",
     "start_time": "2023-12-01T05:32:36.056597900Z"
    }
   },
   "id": "9c5d2bd499707967"
  },
  {
   "cell_type": "code",
   "execution_count": 33,
   "outputs": [
    {
     "name": "stderr",
     "output_type": "stream",
     "text": [
      "C:\\Users\\user\\AppData\\Local\\Temp\\ipykernel_8024\\3256201003.py:1: SettingWithCopyWarning: \n",
      "A value is trying to be set on a copy of a slice from a DataFrame.\n",
      "Try using .loc[row_indexer,col_indexer] = value instead\n",
      "\n",
      "See the caveats in the documentation: https://pandas.pydata.org/pandas-docs/stable/user_guide/indexing.html#returning-a-view-versus-a-copy\n",
      "  movies['crew']= movies['crew'].apply(fetch_director)\n"
     ]
    }
   ],
   "source": [
    "movies['crew']= movies['crew'].apply(fetch_director)"
   ],
   "metadata": {
    "collapsed": false,
    "ExecuteTime": {
     "end_time": "2023-12-01T05:33:13.966717600Z",
     "start_time": "2023-12-01T05:32:55.791306200Z"
    }
   },
   "id": "f67976286b5defc2"
  },
  {
   "cell_type": "code",
   "execution_count": 34,
   "outputs": [
    {
     "data": {
      "text/plain": "   movie_id   title                                           overview  \\\n0     19995  Avatar  In the 22nd century, a paraplegic Marine is di...   \n\n                                          genres  \\\n0  [Action, Adventure, Fantasy, Science Fiction]   \n\n                                            keywords  \\\n0  [culture clash, future, space war, space colon...   \n\n                                                cast             crew  \n0  [Sam Worthington, Zoe Saldana, Sigourney Weave...  [James Cameron]  ",
      "text/html": "<div>\n<style scoped>\n    .dataframe tbody tr th:only-of-type {\n        vertical-align: middle;\n    }\n\n    .dataframe tbody tr th {\n        vertical-align: top;\n    }\n\n    .dataframe thead th {\n        text-align: right;\n    }\n</style>\n<table border=\"1\" class=\"dataframe\">\n  <thead>\n    <tr style=\"text-align: right;\">\n      <th></th>\n      <th>movie_id</th>\n      <th>title</th>\n      <th>overview</th>\n      <th>genres</th>\n      <th>keywords</th>\n      <th>cast</th>\n      <th>crew</th>\n    </tr>\n  </thead>\n  <tbody>\n    <tr>\n      <th>0</th>\n      <td>19995</td>\n      <td>Avatar</td>\n      <td>In the 22nd century, a paraplegic Marine is di...</td>\n      <td>[Action, Adventure, Fantasy, Science Fiction]</td>\n      <td>[culture clash, future, space war, space colon...</td>\n      <td>[Sam Worthington, Zoe Saldana, Sigourney Weave...</td>\n      <td>[James Cameron]</td>\n    </tr>\n  </tbody>\n</table>\n</div>"
     },
     "execution_count": 34,
     "metadata": {},
     "output_type": "execute_result"
    }
   ],
   "source": [
    "movies.head(1)"
   ],
   "metadata": {
    "collapsed": false,
    "ExecuteTime": {
     "end_time": "2023-12-01T05:33:15.388784600Z",
     "start_time": "2023-12-01T05:33:15.168059700Z"
    }
   },
   "id": "ade8e73fb6a102e9"
  },
  {
   "cell_type": "code",
   "execution_count": 35,
   "outputs": [
    {
     "data": {
      "text/plain": "0       [In, the, 22nd, century,, a, paraplegic, Marin...\n1       [Captain, Barbossa,, long, believed, to, be, d...\n2       [A, cryptic, message, from, Bond’s, past, send...\n3       [Following, the, death, of, District, Attorney...\n4       [John, Carter, is, a, war-weary,, former, mili...\n                              ...                        \n4804    [El, Mariachi, just, wants, to, play, his, gui...\n4805    [A, newlywed, couple's, honeymoon, is, upended...\n4806    [\"Signed,, Sealed,, Delivered\", introduces, a,...\n4807    [When, ambitious, New, York, attorney, Sam, is...\n4808    [Ever, since, the, second, grade, when, he, fi...\nName: overview, Length: 4806, dtype: object"
     },
     "execution_count": 35,
     "metadata": {},
     "output_type": "execute_result"
    }
   ],
   "source": [
    "movies['overview'].apply(lambda x:x.split())"
   ],
   "metadata": {
    "collapsed": false,
    "ExecuteTime": {
     "end_time": "2023-12-01T05:33:19.060311300Z",
     "start_time": "2023-12-01T05:33:18.409646600Z"
    }
   },
   "id": "45dc6935892d5455"
  },
  {
   "cell_type": "code",
   "execution_count": 36,
   "outputs": [
    {
     "name": "stderr",
     "output_type": "stream",
     "text": [
      "C:\\Users\\user\\AppData\\Local\\Temp\\ipykernel_8024\\1645461255.py:1: SettingWithCopyWarning: \n",
      "A value is trying to be set on a copy of a slice from a DataFrame.\n",
      "Try using .loc[row_indexer,col_indexer] = value instead\n",
      "\n",
      "See the caveats in the documentation: https://pandas.pydata.org/pandas-docs/stable/user_guide/indexing.html#returning-a-view-versus-a-copy\n",
      "  movies['overview'] = movies['overview'].apply(lambda x:x.split())\n"
     ]
    }
   ],
   "source": [
    "movies['overview'] = movies['overview'].apply(lambda x:x.split())"
   ],
   "metadata": {
    "collapsed": false,
    "ExecuteTime": {
     "end_time": "2023-12-01T05:33:21.896504600Z",
     "start_time": "2023-12-01T05:33:21.623002200Z"
    }
   },
   "id": "d77ce7aeff703b91"
  },
  {
   "cell_type": "code",
   "execution_count": 37,
   "outputs": [
    {
     "data": {
      "text/plain": "   movie_id   title                                           overview  \\\n0     19995  Avatar  [In, the, 22nd, century,, a, paraplegic, Marin...   \n\n                                          genres  \\\n0  [Action, Adventure, Fantasy, Science Fiction]   \n\n                                            keywords  \\\n0  [culture clash, future, space war, space colon...   \n\n                                                cast             crew  \n0  [Sam Worthington, Zoe Saldana, Sigourney Weave...  [James Cameron]  ",
      "text/html": "<div>\n<style scoped>\n    .dataframe tbody tr th:only-of-type {\n        vertical-align: middle;\n    }\n\n    .dataframe tbody tr th {\n        vertical-align: top;\n    }\n\n    .dataframe thead th {\n        text-align: right;\n    }\n</style>\n<table border=\"1\" class=\"dataframe\">\n  <thead>\n    <tr style=\"text-align: right;\">\n      <th></th>\n      <th>movie_id</th>\n      <th>title</th>\n      <th>overview</th>\n      <th>genres</th>\n      <th>keywords</th>\n      <th>cast</th>\n      <th>crew</th>\n    </tr>\n  </thead>\n  <tbody>\n    <tr>\n      <th>0</th>\n      <td>19995</td>\n      <td>Avatar</td>\n      <td>[In, the, 22nd, century,, a, paraplegic, Marin...</td>\n      <td>[Action, Adventure, Fantasy, Science Fiction]</td>\n      <td>[culture clash, future, space war, space colon...</td>\n      <td>[Sam Worthington, Zoe Saldana, Sigourney Weave...</td>\n      <td>[James Cameron]</td>\n    </tr>\n  </tbody>\n</table>\n</div>"
     },
     "execution_count": 37,
     "metadata": {},
     "output_type": "execute_result"
    }
   ],
   "source": [
    "movies.head(1)"
   ],
   "metadata": {
    "collapsed": false,
    "ExecuteTime": {
     "end_time": "2023-12-01T05:33:23.329378500Z",
     "start_time": "2023-12-01T05:33:23.157812100Z"
    }
   },
   "id": "1990cf824b7e3ed9"
  },
  {
   "cell_type": "code",
   "execution_count": 38,
   "outputs": [
    {
     "data": {
      "text/plain": "0       [Action, Adventure, Fantasy, ScienceFiction]\n1                       [Adventure, Fantasy, Action]\n2                         [Action, Adventure, Crime]\n3                   [Action, Crime, Drama, Thriller]\n4                [Action, Adventure, ScienceFiction]\n                            ...                     \n4804                       [Action, Crime, Thriller]\n4805                               [Comedy, Romance]\n4806               [Comedy, Drama, Romance, TVMovie]\n4807                                              []\n4808                                   [Documentary]\nName: genres, Length: 4806, dtype: object"
     },
     "execution_count": 38,
     "metadata": {},
     "output_type": "execute_result"
    }
   ],
   "source": [
    "movies['genres'].apply(lambda x:[i.replace(\" \",\"\") for i in x])"
   ],
   "metadata": {
    "collapsed": false,
    "ExecuteTime": {
     "end_time": "2023-12-01T05:33:25.987561500Z",
     "start_time": "2023-12-01T05:33:25.793557300Z"
    }
   },
   "id": "c214f7ab27c67a6c"
  },
  {
   "cell_type": "code",
   "execution_count": 39,
   "outputs": [
    {
     "name": "stderr",
     "output_type": "stream",
     "text": [
      "C:\\Users\\user\\AppData\\Local\\Temp\\ipykernel_8024\\2744870462.py:1: SettingWithCopyWarning: \n",
      "A value is trying to be set on a copy of a slice from a DataFrame.\n",
      "Try using .loc[row_indexer,col_indexer] = value instead\n",
      "\n",
      "See the caveats in the documentation: https://pandas.pydata.org/pandas-docs/stable/user_guide/indexing.html#returning-a-view-versus-a-copy\n",
      "  movies['genres'] = movies['genres'].apply(lambda x:[i.replace(\" \",\"\") for i in x])\n",
      "C:\\Users\\user\\AppData\\Local\\Temp\\ipykernel_8024\\2744870462.py:2: SettingWithCopyWarning: \n",
      "A value is trying to be set on a copy of a slice from a DataFrame.\n",
      "Try using .loc[row_indexer,col_indexer] = value instead\n",
      "\n",
      "See the caveats in the documentation: https://pandas.pydata.org/pandas-docs/stable/user_guide/indexing.html#returning-a-view-versus-a-copy\n",
      "  movies['keywords'] = movies['keywords'].apply(lambda x:[i.replace(\" \",\"\") for i in x])\n",
      "C:\\Users\\user\\AppData\\Local\\Temp\\ipykernel_8024\\2744870462.py:3: SettingWithCopyWarning: \n",
      "A value is trying to be set on a copy of a slice from a DataFrame.\n",
      "Try using .loc[row_indexer,col_indexer] = value instead\n",
      "\n",
      "See the caveats in the documentation: https://pandas.pydata.org/pandas-docs/stable/user_guide/indexing.html#returning-a-view-versus-a-copy\n",
      "  movies['cast'] = movies['cast'].apply(lambda x:[i.replace(\" \",\"\") for i in x])\n",
      "C:\\Users\\user\\AppData\\Local\\Temp\\ipykernel_8024\\2744870462.py:4: SettingWithCopyWarning: \n",
      "A value is trying to be set on a copy of a slice from a DataFrame.\n",
      "Try using .loc[row_indexer,col_indexer] = value instead\n",
      "\n",
      "See the caveats in the documentation: https://pandas.pydata.org/pandas-docs/stable/user_guide/indexing.html#returning-a-view-versus-a-copy\n",
      "  movies['crew'] = movies['crew'].apply(lambda x:[i.replace(\" \",\"\") for i in x])\n"
     ]
    }
   ],
   "source": [
    "movies['genres'] = movies['genres'].apply(lambda x:[i.replace(\" \",\"\") for i in x])\n",
    "movies['keywords'] = movies['keywords'].apply(lambda x:[i.replace(\" \",\"\") for i in x])\n",
    "movies['cast'] = movies['cast'].apply(lambda x:[i.replace(\" \",\"\") for i in x])\n",
    "movies['crew'] = movies['crew'].apply(lambda x:[i.replace(\" \",\"\") for i in x])"
   ],
   "metadata": {
    "collapsed": false,
    "ExecuteTime": {
     "end_time": "2023-12-01T05:36:06.913843200Z",
     "start_time": "2023-12-01T05:36:05.998595500Z"
    }
   },
   "id": "4682625008a736aa"
  },
  {
   "cell_type": "code",
   "execution_count": 40,
   "outputs": [
    {
     "data": {
      "text/plain": "   movie_id   title                                           overview  \\\n0     19995  Avatar  [In, the, 22nd, century,, a, paraplegic, Marin...   \n\n                                         genres  \\\n0  [Action, Adventure, Fantasy, ScienceFiction]   \n\n                                            keywords  \\\n0  [cultureclash, future, spacewar, spacecolony, ...   \n\n                                                cast            crew  \n0  [SamWorthington, ZoeSaldana, SigourneyWeaver, ...  [JamesCameron]  ",
      "text/html": "<div>\n<style scoped>\n    .dataframe tbody tr th:only-of-type {\n        vertical-align: middle;\n    }\n\n    .dataframe tbody tr th {\n        vertical-align: top;\n    }\n\n    .dataframe thead th {\n        text-align: right;\n    }\n</style>\n<table border=\"1\" class=\"dataframe\">\n  <thead>\n    <tr style=\"text-align: right;\">\n      <th></th>\n      <th>movie_id</th>\n      <th>title</th>\n      <th>overview</th>\n      <th>genres</th>\n      <th>keywords</th>\n      <th>cast</th>\n      <th>crew</th>\n    </tr>\n  </thead>\n  <tbody>\n    <tr>\n      <th>0</th>\n      <td>19995</td>\n      <td>Avatar</td>\n      <td>[In, the, 22nd, century,, a, paraplegic, Marin...</td>\n      <td>[Action, Adventure, Fantasy, ScienceFiction]</td>\n      <td>[cultureclash, future, spacewar, spacecolony, ...</td>\n      <td>[SamWorthington, ZoeSaldana, SigourneyWeaver, ...</td>\n      <td>[JamesCameron]</td>\n    </tr>\n  </tbody>\n</table>\n</div>"
     },
     "execution_count": 40,
     "metadata": {},
     "output_type": "execute_result"
    }
   ],
   "source": [
    "movies.head(1)"
   ],
   "metadata": {
    "collapsed": false,
    "ExecuteTime": {
     "end_time": "2023-12-01T05:36:18.182387500Z",
     "start_time": "2023-12-01T05:36:17.896776900Z"
    }
   },
   "id": "38717cfb774efd4b"
  },
  {
   "cell_type": "code",
   "execution_count": 43,
   "outputs": [
    {
     "name": "stderr",
     "output_type": "stream",
     "text": [
      "C:\\Users\\user\\AppData\\Local\\Temp\\ipykernel_8024\\2925825167.py:1: SettingWithCopyWarning: \n",
      "A value is trying to be set on a copy of a slice from a DataFrame.\n",
      "Try using .loc[row_indexer,col_indexer] = value instead\n",
      "\n",
      "See the caveats in the documentation: https://pandas.pydata.org/pandas-docs/stable/user_guide/indexing.html#returning-a-view-versus-a-copy\n",
      "  movies['tags'] = movies['overview']+movies['genres']+movies['keywords']+movies['cast']+movies['crew']\n"
     ]
    }
   ],
   "source": [
    "movies['tags'] = movies['overview']+movies['genres']+movies['keywords']+movies['cast']+movies['crew']"
   ],
   "metadata": {
    "collapsed": false,
    "ExecuteTime": {
     "end_time": "2023-12-01T05:40:23.436983200Z",
     "start_time": "2023-12-01T05:40:22.705524300Z"
    }
   },
   "id": "bef594dc7fe81dd1"
  },
  {
   "cell_type": "code",
   "execution_count": 44,
   "outputs": [
    {
     "data": {
      "text/plain": "['When',\n 'Tony',\n 'Stark',\n 'tries',\n 'to',\n 'jumpstart',\n 'a',\n 'dormant',\n 'peacekeeping',\n 'program,',\n 'things',\n 'go',\n 'awry',\n 'and',\n 'Earth’s',\n 'Mightiest',\n 'Heroes',\n 'are',\n 'put',\n 'to',\n 'the',\n 'ultimate',\n 'test',\n 'as',\n 'the',\n 'fate',\n 'of',\n 'the',\n 'planet',\n 'hangs',\n 'in',\n 'the',\n 'balance.',\n 'As',\n 'the',\n 'villainous',\n 'Ultron',\n 'emerges,',\n 'it',\n 'is',\n 'up',\n 'to',\n 'The',\n 'Avengers',\n 'to',\n 'stop',\n 'him',\n 'from',\n 'enacting',\n 'his',\n 'terrible',\n 'plans,',\n 'and',\n 'soon',\n 'uneasy',\n 'alliances',\n 'and',\n 'unexpected',\n 'action',\n 'pave',\n 'the',\n 'way',\n 'for',\n 'an',\n 'epic',\n 'and',\n 'unique',\n 'global',\n 'adventure.',\n 'Action',\n 'Adventure',\n 'ScienceFiction',\n 'marvelcomic',\n 'sequel',\n 'superhero',\n 'basedoncomicbook',\n 'vision',\n 'superheroteam',\n 'duringcreditsstinger',\n 'marvelcinematicuniverse',\n '3d',\n 'RobertDowneyJr.',\n 'ChrisHemsworth',\n 'MarkRuffalo',\n 'ChrisEvans',\n 'ScarlettJohansson',\n 'JossWhedon']"
     },
     "execution_count": 44,
     "metadata": {},
     "output_type": "execute_result"
    }
   ],
   "source": [
    "movies['tags'][7]"
   ],
   "metadata": {
    "collapsed": false,
    "ExecuteTime": {
     "end_time": "2023-12-01T05:40:24.707069600Z",
     "start_time": "2023-12-01T05:40:24.540412900Z"
    }
   },
   "id": "ad0c6277fff45866"
  },
  {
   "cell_type": "code",
   "execution_count": 45,
   "outputs": [],
   "source": [
    "df = movies[['movie_id','title','tags']]"
   ],
   "metadata": {
    "collapsed": false,
    "ExecuteTime": {
     "end_time": "2023-12-01T05:49:03.803133800Z",
     "start_time": "2023-12-01T05:49:03.527072800Z"
    }
   },
   "id": "2ff7b3f15b15ba54"
  },
  {
   "cell_type": "code",
   "execution_count": 46,
   "outputs": [
    {
     "data": {
      "text/plain": "      movie_id                                     title  \\\n0        19995                                    Avatar   \n1          285  Pirates of the Caribbean: At World's End   \n2       206647                                   Spectre   \n3        49026                     The Dark Knight Rises   \n4        49529                               John Carter   \n...        ...                                       ...   \n4804      9367                               El Mariachi   \n4805     72766                                 Newlyweds   \n4806    231617                 Signed, Sealed, Delivered   \n4807    126186                          Shanghai Calling   \n4808     25975                         My Date with Drew   \n\n                                                   tags  \n0     [In, the, 22nd, century,, a, paraplegic, Marin...  \n1     [Captain, Barbossa,, long, believed, to, be, d...  \n2     [A, cryptic, message, from, Bond’s, past, send...  \n3     [Following, the, death, of, District, Attorney...  \n4     [John, Carter, is, a, war-weary,, former, mili...  \n...                                                 ...  \n4804  [El, Mariachi, just, wants, to, play, his, gui...  \n4805  [A, newlywed, couple's, honeymoon, is, upended...  \n4806  [\"Signed,, Sealed,, Delivered\", introduces, a,...  \n4807  [When, ambitious, New, York, attorney, Sam, is...  \n4808  [Ever, since, the, second, grade, when, he, fi...  \n\n[4806 rows x 3 columns]",
      "text/html": "<div>\n<style scoped>\n    .dataframe tbody tr th:only-of-type {\n        vertical-align: middle;\n    }\n\n    .dataframe tbody tr th {\n        vertical-align: top;\n    }\n\n    .dataframe thead th {\n        text-align: right;\n    }\n</style>\n<table border=\"1\" class=\"dataframe\">\n  <thead>\n    <tr style=\"text-align: right;\">\n      <th></th>\n      <th>movie_id</th>\n      <th>title</th>\n      <th>tags</th>\n    </tr>\n  </thead>\n  <tbody>\n    <tr>\n      <th>0</th>\n      <td>19995</td>\n      <td>Avatar</td>\n      <td>[In, the, 22nd, century,, a, paraplegic, Marin...</td>\n    </tr>\n    <tr>\n      <th>1</th>\n      <td>285</td>\n      <td>Pirates of the Caribbean: At World's End</td>\n      <td>[Captain, Barbossa,, long, believed, to, be, d...</td>\n    </tr>\n    <tr>\n      <th>2</th>\n      <td>206647</td>\n      <td>Spectre</td>\n      <td>[A, cryptic, message, from, Bond’s, past, send...</td>\n    </tr>\n    <tr>\n      <th>3</th>\n      <td>49026</td>\n      <td>The Dark Knight Rises</td>\n      <td>[Following, the, death, of, District, Attorney...</td>\n    </tr>\n    <tr>\n      <th>4</th>\n      <td>49529</td>\n      <td>John Carter</td>\n      <td>[John, Carter, is, a, war-weary,, former, mili...</td>\n    </tr>\n    <tr>\n      <th>...</th>\n      <td>...</td>\n      <td>...</td>\n      <td>...</td>\n    </tr>\n    <tr>\n      <th>4804</th>\n      <td>9367</td>\n      <td>El Mariachi</td>\n      <td>[El, Mariachi, just, wants, to, play, his, gui...</td>\n    </tr>\n    <tr>\n      <th>4805</th>\n      <td>72766</td>\n      <td>Newlyweds</td>\n      <td>[A, newlywed, couple's, honeymoon, is, upended...</td>\n    </tr>\n    <tr>\n      <th>4806</th>\n      <td>231617</td>\n      <td>Signed, Sealed, Delivered</td>\n      <td>[\"Signed,, Sealed,, Delivered\", introduces, a,...</td>\n    </tr>\n    <tr>\n      <th>4807</th>\n      <td>126186</td>\n      <td>Shanghai Calling</td>\n      <td>[When, ambitious, New, York, attorney, Sam, is...</td>\n    </tr>\n    <tr>\n      <th>4808</th>\n      <td>25975</td>\n      <td>My Date with Drew</td>\n      <td>[Ever, since, the, second, grade, when, he, fi...</td>\n    </tr>\n  </tbody>\n</table>\n<p>4806 rows × 3 columns</p>\n</div>"
     },
     "execution_count": 46,
     "metadata": {},
     "output_type": "execute_result"
    }
   ],
   "source": [
    "df"
   ],
   "metadata": {
    "collapsed": false,
    "ExecuteTime": {
     "end_time": "2023-12-01T05:49:07.105963400Z",
     "start_time": "2023-12-01T05:49:06.793299300Z"
    }
   },
   "id": "2b803a292d8f7acd"
  },
  {
   "cell_type": "code",
   "execution_count": 47,
   "outputs": [
    {
     "data": {
      "text/plain": "0       In the 22nd century, a paraplegic Marine is di...\n1       Captain Barbossa, long believed to be dead, ha...\n2       A cryptic message from Bond’s past sends him o...\n3       Following the death of District Attorney Harve...\n4       John Carter is a war-weary, former military ca...\n                              ...                        \n4804    El Mariachi just wants to play his guitar and ...\n4805    A newlywed couple's honeymoon is upended by th...\n4806    \"Signed, Sealed, Delivered\" introduces a dedic...\n4807    When ambitious New York attorney Sam is sent t...\n4808    Ever since the second grade when he first saw ...\nName: tags, Length: 4806, dtype: object"
     },
     "execution_count": 47,
     "metadata": {},
     "output_type": "execute_result"
    }
   ],
   "source": [
    "df['tags'].apply(lambda x:\" \".join(x))"
   ],
   "metadata": {
    "collapsed": false,
    "ExecuteTime": {
     "end_time": "2023-12-01T05:50:23.648560800Z",
     "start_time": "2023-12-01T05:50:23.351689800Z"
    }
   },
   "id": "44e4ab79e30e3671"
  },
  {
   "cell_type": "code",
   "execution_count": 48,
   "outputs": [
    {
     "name": "stderr",
     "output_type": "stream",
     "text": [
      "C:\\Users\\user\\AppData\\Local\\Temp\\ipykernel_8024\\1387962423.py:1: SettingWithCopyWarning: \n",
      "A value is trying to be set on a copy of a slice from a DataFrame.\n",
      "Try using .loc[row_indexer,col_indexer] = value instead\n",
      "\n",
      "See the caveats in the documentation: https://pandas.pydata.org/pandas-docs/stable/user_guide/indexing.html#returning-a-view-versus-a-copy\n",
      "  df['tags']=df['tags'].apply(lambda x:\" \".join(x))\n"
     ]
    }
   ],
   "source": [
    "df['tags']=df['tags'].apply(lambda x:\" \".join(x))"
   ],
   "metadata": {
    "collapsed": false,
    "ExecuteTime": {
     "end_time": "2023-12-01T05:50:52.749099200Z",
     "start_time": "2023-12-01T05:50:52.352062200Z"
    }
   },
   "id": "690981600bd7f743"
  },
  {
   "cell_type": "code",
   "execution_count": 50,
   "outputs": [
    {
     "data": {
      "text/plain": "'In the 22nd century, a paraplegic Marine is dispatched to the moon Pandora on a unique mission, but becomes torn between following orders and protecting an alien civilization. Action Adventure Fantasy ScienceFiction cultureclash future spacewar spacecolony society spacetravel futuristic romance space alien tribe alienplanet cgi marine soldier battle loveaffair antiwar powerrelations mindandsoul 3d SamWorthington ZoeSaldana SigourneyWeaver StephenLang MichelleRodriguez JamesCameron'"
     },
     "execution_count": 50,
     "metadata": {},
     "output_type": "execute_result"
    }
   ],
   "source": [
    "df['tags'][0]"
   ],
   "metadata": {
    "collapsed": false,
    "ExecuteTime": {
     "end_time": "2023-12-01T05:51:26.535874800Z",
     "start_time": "2023-12-01T05:51:26.248467200Z"
    }
   },
   "id": "a6cdc09603d2a122"
  },
  {
   "cell_type": "code",
   "execution_count": 51,
   "outputs": [
    {
     "name": "stderr",
     "output_type": "stream",
     "text": [
      "C:\\Users\\user\\AppData\\Local\\Temp\\ipykernel_8024\\43738806.py:1: SettingWithCopyWarning: \n",
      "A value is trying to be set on a copy of a slice from a DataFrame.\n",
      "Try using .loc[row_indexer,col_indexer] = value instead\n",
      "\n",
      "See the caveats in the documentation: https://pandas.pydata.org/pandas-docs/stable/user_guide/indexing.html#returning-a-view-versus-a-copy\n",
      "  df['tags'] = df['tags'].apply(lambda x:x.lower())\n"
     ]
    }
   ],
   "source": [
    "df['tags'] = df['tags'].apply(lambda x:x.lower())"
   ],
   "metadata": {
    "collapsed": false,
    "ExecuteTime": {
     "end_time": "2023-12-01T05:52:41.212726600Z",
     "start_time": "2023-12-01T05:52:40.757059Z"
    }
   },
   "id": "77316ae0c340443a"
  },
  {
   "cell_type": "code",
   "execution_count": 52,
   "outputs": [
    {
     "data": {
      "text/plain": "   movie_id   title                                               tags\n0     19995  Avatar  in the 22nd century, a paraplegic marine is di...",
      "text/html": "<div>\n<style scoped>\n    .dataframe tbody tr th:only-of-type {\n        vertical-align: middle;\n    }\n\n    .dataframe tbody tr th {\n        vertical-align: top;\n    }\n\n    .dataframe thead th {\n        text-align: right;\n    }\n</style>\n<table border=\"1\" class=\"dataframe\">\n  <thead>\n    <tr style=\"text-align: right;\">\n      <th></th>\n      <th>movie_id</th>\n      <th>title</th>\n      <th>tags</th>\n    </tr>\n  </thead>\n  <tbody>\n    <tr>\n      <th>0</th>\n      <td>19995</td>\n      <td>Avatar</td>\n      <td>in the 22nd century, a paraplegic marine is di...</td>\n    </tr>\n  </tbody>\n</table>\n</div>"
     },
     "execution_count": 52,
     "metadata": {},
     "output_type": "execute_result"
    }
   ],
   "source": [
    "df.head(1)"
   ],
   "metadata": {
    "collapsed": false,
    "ExecuteTime": {
     "end_time": "2023-12-01T05:52:48.257229200Z",
     "start_time": "2023-12-01T05:52:47.989439500Z"
    }
   },
   "id": "eaa672b707a0ae8e"
  },
  {
   "cell_type": "code",
   "execution_count": 53,
   "outputs": [
    {
     "data": {
      "text/plain": "      movie_id                                     title  \\\n0        19995                                    Avatar   \n1          285  Pirates of the Caribbean: At World's End   \n2       206647                                   Spectre   \n3        49026                     The Dark Knight Rises   \n4        49529                               John Carter   \n...        ...                                       ...   \n4804      9367                               El Mariachi   \n4805     72766                                 Newlyweds   \n4806    231617                 Signed, Sealed, Delivered   \n4807    126186                          Shanghai Calling   \n4808     25975                         My Date with Drew   \n\n                                                   tags  \n0     in the 22nd century, a paraplegic marine is di...  \n1     captain barbossa, long believed to be dead, ha...  \n2     a cryptic message from bond’s past sends him o...  \n3     following the death of district attorney harve...  \n4     john carter is a war-weary, former military ca...  \n...                                                 ...  \n4804  el mariachi just wants to play his guitar and ...  \n4805  a newlywed couple's honeymoon is upended by th...  \n4806  \"signed, sealed, delivered\" introduces a dedic...  \n4807  when ambitious new york attorney sam is sent t...  \n4808  ever since the second grade when he first saw ...  \n\n[4806 rows x 3 columns]",
      "text/html": "<div>\n<style scoped>\n    .dataframe tbody tr th:only-of-type {\n        vertical-align: middle;\n    }\n\n    .dataframe tbody tr th {\n        vertical-align: top;\n    }\n\n    .dataframe thead th {\n        text-align: right;\n    }\n</style>\n<table border=\"1\" class=\"dataframe\">\n  <thead>\n    <tr style=\"text-align: right;\">\n      <th></th>\n      <th>movie_id</th>\n      <th>title</th>\n      <th>tags</th>\n    </tr>\n  </thead>\n  <tbody>\n    <tr>\n      <th>0</th>\n      <td>19995</td>\n      <td>Avatar</td>\n      <td>in the 22nd century, a paraplegic marine is di...</td>\n    </tr>\n    <tr>\n      <th>1</th>\n      <td>285</td>\n      <td>Pirates of the Caribbean: At World's End</td>\n      <td>captain barbossa, long believed to be dead, ha...</td>\n    </tr>\n    <tr>\n      <th>2</th>\n      <td>206647</td>\n      <td>Spectre</td>\n      <td>a cryptic message from bond’s past sends him o...</td>\n    </tr>\n    <tr>\n      <th>3</th>\n      <td>49026</td>\n      <td>The Dark Knight Rises</td>\n      <td>following the death of district attorney harve...</td>\n    </tr>\n    <tr>\n      <th>4</th>\n      <td>49529</td>\n      <td>John Carter</td>\n      <td>john carter is a war-weary, former military ca...</td>\n    </tr>\n    <tr>\n      <th>...</th>\n      <td>...</td>\n      <td>...</td>\n      <td>...</td>\n    </tr>\n    <tr>\n      <th>4804</th>\n      <td>9367</td>\n      <td>El Mariachi</td>\n      <td>el mariachi just wants to play his guitar and ...</td>\n    </tr>\n    <tr>\n      <th>4805</th>\n      <td>72766</td>\n      <td>Newlyweds</td>\n      <td>a newlywed couple's honeymoon is upended by th...</td>\n    </tr>\n    <tr>\n      <th>4806</th>\n      <td>231617</td>\n      <td>Signed, Sealed, Delivered</td>\n      <td>\"signed, sealed, delivered\" introduces a dedic...</td>\n    </tr>\n    <tr>\n      <th>4807</th>\n      <td>126186</td>\n      <td>Shanghai Calling</td>\n      <td>when ambitious new york attorney sam is sent t...</td>\n    </tr>\n    <tr>\n      <th>4808</th>\n      <td>25975</td>\n      <td>My Date with Drew</td>\n      <td>ever since the second grade when he first saw ...</td>\n    </tr>\n  </tbody>\n</table>\n<p>4806 rows × 3 columns</p>\n</div>"
     },
     "execution_count": 53,
     "metadata": {},
     "output_type": "execute_result"
    }
   ],
   "source": [
    "df"
   ],
   "metadata": {
    "collapsed": false,
    "ExecuteTime": {
     "end_time": "2023-12-01T15:17:32.386618600Z",
     "start_time": "2023-12-01T15:17:17.634596700Z"
    }
   },
   "id": "7ed1fd1f692533cf"
  },
  {
   "cell_type": "code",
   "execution_count": 57,
   "outputs": [],
   "source": [
    "from nltk.stem.porter import PorterStemmer\n",
    "ps = PorterStemmer()"
   ],
   "metadata": {
    "collapsed": false,
    "ExecuteTime": {
     "end_time": "2023-12-01T16:03:48.816519400Z",
     "start_time": "2023-12-01T16:03:41.307501800Z"
    }
   },
   "id": "62eb264d871abcfa"
  },
  {
   "cell_type": "code",
   "execution_count": 58,
   "outputs": [],
   "source": [
    "def stem(text):\n",
    "    y=[]\n",
    "    for i in text.split():\n",
    "        y.append(ps.stem(i))\n",
    "        \n",
    "    return \" \".join(y)\n",
    "    "
   ],
   "metadata": {
    "collapsed": false,
    "ExecuteTime": {
     "end_time": "2023-12-01T16:06:49.269471100Z",
     "start_time": "2023-12-01T16:06:49.188301900Z"
    }
   },
   "id": "d54d506615637d93"
  },
  {
   "cell_type": "code",
   "execution_count": 59,
   "outputs": [
    {
     "data": {
      "text/plain": "0       in the 22nd century, a parapleg marin is dispa...\n1       captain barbossa, long believ to be dead, ha c...\n2       a cryptic messag from bond’ past send him on a...\n3       follow the death of district attorney harvey d...\n4       john carter is a war-weary, former militari ca...\n                              ...                        \n4804    el mariachi just want to play hi guitar and ca...\n4805    a newlyw couple' honeymoon is upend by the arr...\n4806    \"signed, sealed, delivered\" introduc a dedic q...\n4807    when ambiti new york attorney sam is sent to s...\n4808    ever sinc the second grade when he first saw h...\nName: tags, Length: 4806, dtype: object"
     },
     "execution_count": 59,
     "metadata": {},
     "output_type": "execute_result"
    }
   ],
   "source": [
    "df['tags'].apply(stem)"
   ],
   "metadata": {
    "collapsed": false,
    "ExecuteTime": {
     "end_time": "2023-12-01T16:07:31.284460800Z",
     "start_time": "2023-12-01T16:07:08.773001800Z"
    }
   },
   "id": "346ce6b4e0d351fa"
  },
  {
   "cell_type": "code",
   "execution_count": 62,
   "outputs": [
    {
     "name": "stderr",
     "output_type": "stream",
     "text": [
      "C:\\Users\\user\\AppData\\Local\\Temp\\ipykernel_8024\\427361584.py:1: SettingWithCopyWarning: \n",
      "A value is trying to be set on a copy of a slice from a DataFrame.\n",
      "Try using .loc[row_indexer,col_indexer] = value instead\n",
      "\n",
      "See the caveats in the documentation: https://pandas.pydata.org/pandas-docs/stable/user_guide/indexing.html#returning-a-view-versus-a-copy\n",
      "  df['tags']=df['tags'].apply(stem)\n"
     ]
    }
   ],
   "source": [
    "df['tags']=df['tags'].apply(stem)"
   ],
   "metadata": {
    "collapsed": false,
    "ExecuteTime": {
     "end_time": "2023-12-01T16:10:32.172197600Z",
     "start_time": "2023-12-01T16:10:11.901626200Z"
    }
   },
   "id": "1acf56cab2ccb856"
  },
  {
   "cell_type": "code",
   "execution_count": 63,
   "outputs": [],
   "source": [
    "from sklearn.feature_extraction.text import CountVectorizer\n",
    "cv = CountVectorizer(stop_words='english',max_features=5000)\n",
    "vectors = cv.fit_transform(df['tags']).toarray()"
   ],
   "metadata": {
    "collapsed": false,
    "ExecuteTime": {
     "end_time": "2023-12-01T16:10:38.365183500Z",
     "start_time": "2023-12-01T16:10:34.960101700Z"
    }
   },
   "id": "aca1058c2db11bf8"
  },
  {
   "cell_type": "code",
   "execution_count": 64,
   "outputs": [
    {
     "data": {
      "text/plain": "array([[0, 0, 0, ..., 0, 0, 0],\n       [0, 0, 0, ..., 0, 0, 0],\n       [0, 0, 0, ..., 0, 0, 0],\n       ...,\n       [0, 0, 0, ..., 0, 0, 0],\n       [0, 0, 0, ..., 0, 0, 0],\n       [0, 0, 0, ..., 0, 0, 0]], dtype=int64)"
     },
     "execution_count": 64,
     "metadata": {},
     "output_type": "execute_result"
    }
   ],
   "source": [
    "vectors"
   ],
   "metadata": {
    "collapsed": false,
    "ExecuteTime": {
     "end_time": "2023-12-01T16:10:48.237322400Z",
     "start_time": "2023-12-01T16:10:47.936484400Z"
    }
   },
   "id": "8f0b6bfc9c8203a5"
  },
  {
   "cell_type": "code",
   "execution_count": 65,
   "outputs": [
    {
     "data": {
      "text/plain": "array(['000', '007', '10', ..., 'zone', 'zoo', 'zooeydeschanel'],\n      dtype=object)"
     },
     "execution_count": 65,
     "metadata": {},
     "output_type": "execute_result"
    }
   ],
   "source": [
    "cv.get_feature_names_out()"
   ],
   "metadata": {
    "collapsed": false,
    "ExecuteTime": {
     "end_time": "2023-12-01T16:13:48.006840200Z",
     "start_time": "2023-12-01T16:13:47.571214200Z"
    }
   },
   "id": "a59f308b9c941d48"
  },
  {
   "cell_type": "code",
   "execution_count": 66,
   "outputs": [],
   "source": [
    "from sklearn.metrics.pairwise import cosine_similarity\n",
    "similarity = cosine_similarity(vectors)"
   ],
   "metadata": {
    "collapsed": false,
    "ExecuteTime": {
     "end_time": "2023-12-01T16:22:14.603022200Z",
     "start_time": "2023-12-01T16:21:43.998035700Z"
    }
   },
   "id": "3cff19566d1b731e"
  },
  {
   "cell_type": "code",
   "execution_count": 71,
   "outputs": [],
   "source": [
    "def recommend(movie):\n",
    "    movie_index = df[df['title']==movie].index[0]\n",
    "    distances = similarity[movie_index]\n",
    "    movies_list = sorted(list(enumerate(distances)),reverse=True,key=lambda x:x[1])[1:6]\n",
    "    \n",
    "    for i in movies_list:\n",
    "        print(df.iloc[i[0]].title)"
   ],
   "metadata": {
    "collapsed": false,
    "ExecuteTime": {
     "end_time": "2023-12-01T17:16:47.270100800Z",
     "start_time": "2023-12-01T17:16:46.843434800Z"
    }
   },
   "id": "487acfc47c73adc0"
  },
  {
   "cell_type": "code",
   "execution_count": 76,
   "outputs": [
    {
     "name": "stdout",
     "output_type": "stream",
     "text": [
      "Avengers: Age of Ultron\n",
      "Captain America: Civil War\n",
      "Iron Man 3\n",
      "Captain America: The First Avenger\n",
      "Thor: The Dark World\n"
     ]
    }
   ],
   "source": [
    "recommend('The Avengers')"
   ],
   "metadata": {
    "collapsed": false,
    "ExecuteTime": {
     "end_time": "2023-12-01T17:18:36.510661300Z",
     "start_time": "2023-12-01T17:18:36.330465200Z"
    }
   },
   "id": "573fd9363f0df3f0"
  },
  {
   "cell_type": "code",
   "execution_count": 77,
   "outputs": [
    {
     "data": {
      "text/plain": "['movies.joblib']"
     },
     "execution_count": 77,
     "metadata": {},
     "output_type": "execute_result"
    }
   ],
   "source": [
    "from joblib import dump\n",
    "dump(df, 'movies.joblib')\n"
   ],
   "metadata": {
    "collapsed": false,
    "ExecuteTime": {
     "end_time": "2023-12-01T18:51:05.132681Z",
     "start_time": "2023-12-01T18:51:02.667281400Z"
    }
   },
   "id": "935ab2b8bacffb75"
  },
  {
   "cell_type": "code",
   "execution_count": 78,
   "outputs": [
    {
     "data": {
      "text/plain": "['similarity.joblib']"
     },
     "execution_count": 78,
     "metadata": {},
     "output_type": "execute_result"
    }
   ],
   "source": [
    "dump(similarity,'similarity.joblib')"
   ],
   "metadata": {
    "collapsed": false,
    "ExecuteTime": {
     "end_time": "2023-12-01T19:12:35.654662700Z",
     "start_time": "2023-12-01T19:12:29.088403900Z"
    }
   },
   "id": "32a14a6fa4233c7d"
  },
  {
   "cell_type": "code",
   "execution_count": 79,
   "outputs": [
    {
     "data": {
      "text/plain": "['movies_dict.joblib']"
     },
     "execution_count": 79,
     "metadata": {},
     "output_type": "execute_result"
    }
   ],
   "source": [
    "dump(df.to_dict(), 'movies_dict.joblib')"
   ],
   "metadata": {
    "collapsed": false,
    "ExecuteTime": {
     "end_time": "2023-12-01T19:42:37.194206500Z",
     "start_time": "2023-12-01T19:42:34.050135400Z"
    }
   },
   "id": "b5fa9961d9a19858"
  },
  {
   "cell_type": "code",
   "execution_count": null,
   "outputs": [],
   "source": [],
   "metadata": {
    "collapsed": false
   },
   "id": "a65ff8413cf3ed95"
  }
 ],
 "metadata": {
  "kernelspec": {
   "display_name": "Python 3",
   "language": "python",
   "name": "python3"
  },
  "language_info": {
   "codemirror_mode": {
    "name": "ipython",
    "version": 2
   },
   "file_extension": ".py",
   "mimetype": "text/x-python",
   "name": "python",
   "nbconvert_exporter": "python",
   "pygments_lexer": "ipython2",
   "version": "2.7.6"
  }
 },
 "nbformat": 4,
 "nbformat_minor": 5
}
